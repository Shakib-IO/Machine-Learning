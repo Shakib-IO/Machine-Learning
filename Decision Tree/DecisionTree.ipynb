{
  "nbformat": 4,
  "nbformat_minor": 0,
  "metadata": {
    "colab": {
      "name": "DecisionTree.ipynb",
      "version": "0.3.2",
      "provenance": [],
      "collapsed_sections": []
    },
    "kernelspec": {
      "name": "python3",
      "display_name": "Python 3"
    }
  },
  "cells": [
    {
      "cell_type": "code",
      "metadata": {
        "id": "s-gIGq1gFwhg",
        "colab_type": "code",
        "colab": {
          "base_uri": "https://localhost:8080/",
          "height": 101
        },
        "outputId": "ba42e1ee-8d5d-4041-ff88-c4162a3695cb"
      },
      "source": [
        "!pip install sklearn"
      ],
      "execution_count": 7,
      "outputs": [
        {
          "output_type": "stream",
          "text": [
            "Requirement already satisfied: sklearn in /usr/local/lib/python3.6/dist-packages (0.0)\n",
            "Requirement already satisfied: scikit-learn in /usr/local/lib/python3.6/dist-packages (from sklearn) (0.21.2)\n",
            "Requirement already satisfied: joblib>=0.11 in /usr/local/lib/python3.6/dist-packages (from scikit-learn->sklearn) (0.13.2)\n",
            "Requirement already satisfied: numpy>=1.11.0 in /usr/local/lib/python3.6/dist-packages (from scikit-learn->sklearn) (1.16.4)\n",
            "Requirement already satisfied: scipy>=0.17.0 in /usr/local/lib/python3.6/dist-packages (from scikit-learn->sklearn) (1.3.0)\n"
          ],
          "name": "stdout"
        }
      ]
    },
    {
      "cell_type": "markdown",
      "metadata": {
        "id": "7eywKAPyGRDT",
        "colab_type": "text"
      },
      "source": [
        "**Bank Marketing Data - A Decision Tree Approach**\n",
        "\n",
        "**Aim**:\n",
        "\n",
        "The aim of this attempt is to predict if the client will subscribe (yes/no) to a term deposit, by building a classification model using Decision Tree."
      ]
    },
    {
      "cell_type": "code",
      "metadata": {
        "id": "kpenBMwcF_pU",
        "colab_type": "code",
        "colab": {}
      },
      "source": [
        "import pandas as pd\n",
        "import numpy as np\n",
        "import matplotlib.pyplot as plt\n",
        "import seaborn as sns\n",
        "from sklearn.cluster import KMeans\n",
        "from sklearn import datasets\n",
        "from io import StringIO\n",
        "from sklearn.tree import export_graphviz\n",
        "from sklearn.model_selection import train_test_split\n",
        "from sklearn import tree\n",
        "from sklearn import metrics\n",
        "%matplotlib inline"
      ],
      "execution_count": 0,
      "outputs": []
    },
    {
      "cell_type": "code",
      "metadata": {
        "id": "g_aMqjp0GjVM",
        "colab_type": "code",
        "outputId": "0d9fca85-b324-47f0-b17e-7e9140d21ac4",
        "colab": {
          "resources": {
            "http://localhost:8080/nbextensions/google.colab/files.js": {
              "data": "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",
              "ok": true,
              "headers": [
                [
                  "content-type",
                  "application/javascript"
                ]
              ],
              "status": 200,
              "status_text": ""
            }
          },
          "base_uri": "https://localhost:8080/",
          "height": 74
        }
      },
      "source": [
        "#Load the dataset\n",
        "from  google.colab import files\n",
        "uploaded = files.upload()"
      ],
      "execution_count": 9,
      "outputs": [
        {
          "output_type": "display_data",
          "data": {
            "text/html": [
              "\n",
              "     <input type=\"file\" id=\"files-3d1f36e6-70b1-4f13-bc40-ff950168e673\" name=\"files[]\" multiple disabled />\n",
              "     <output id=\"result-3d1f36e6-70b1-4f13-bc40-ff950168e673\">\n",
              "      Upload widget is only available when the cell has been executed in the\n",
              "      current browser session. Please rerun this cell to enable.\n",
              "      </output>\n",
              "      <script src=\"/nbextensions/google.colab/files.js\"></script> "
            ],
            "text/plain": [
              "<IPython.core.display.HTML object>"
            ]
          },
          "metadata": {
            "tags": []
          }
        },
        {
          "output_type": "stream",
          "text": [
            "Saving bank.csv to bank (1).csv\n"
          ],
          "name": "stdout"
        }
      ]
    },
    {
      "cell_type": "code",
      "metadata": {
        "id": "5C5mwkcCHFlc",
        "colab_type": "code",
        "outputId": "488a2986-aca6-4b75-9367-bcbb9088f8e4",
        "colab": {
          "base_uri": "https://localhost:8080/",
          "height": 195
        }
      },
      "source": [
        "bank= pd.read_csv('bank.csv')\n",
        "bank.head()"
      ],
      "execution_count": 11,
      "outputs": [
        {
          "output_type": "execute_result",
          "data": {
            "text/html": [
              "<div>\n",
              "<style scoped>\n",
              "    .dataframe tbody tr th:only-of-type {\n",
              "        vertical-align: middle;\n",
              "    }\n",
              "\n",
              "    .dataframe tbody tr th {\n",
              "        vertical-align: top;\n",
              "    }\n",
              "\n",
              "    .dataframe thead th {\n",
              "        text-align: right;\n",
              "    }\n",
              "</style>\n",
              "<table border=\"1\" class=\"dataframe\">\n",
              "  <thead>\n",
              "    <tr style=\"text-align: right;\">\n",
              "      <th></th>\n",
              "      <th>age</th>\n",
              "      <th>job</th>\n",
              "      <th>marital</th>\n",
              "      <th>education</th>\n",
              "      <th>default</th>\n",
              "      <th>balance</th>\n",
              "      <th>housing</th>\n",
              "      <th>loan</th>\n",
              "      <th>contact</th>\n",
              "      <th>day</th>\n",
              "      <th>month</th>\n",
              "      <th>duration</th>\n",
              "      <th>campaign</th>\n",
              "      <th>pdays</th>\n",
              "      <th>previous</th>\n",
              "      <th>poutcome</th>\n",
              "      <th>deposit</th>\n",
              "    </tr>\n",
              "  </thead>\n",
              "  <tbody>\n",
              "    <tr>\n",
              "      <th>0</th>\n",
              "      <td>59</td>\n",
              "      <td>admin.</td>\n",
              "      <td>married</td>\n",
              "      <td>secondary</td>\n",
              "      <td>no</td>\n",
              "      <td>2343</td>\n",
              "      <td>yes</td>\n",
              "      <td>no</td>\n",
              "      <td>unknown</td>\n",
              "      <td>5</td>\n",
              "      <td>may</td>\n",
              "      <td>1042</td>\n",
              "      <td>1</td>\n",
              "      <td>-1</td>\n",
              "      <td>0</td>\n",
              "      <td>unknown</td>\n",
              "      <td>yes</td>\n",
              "    </tr>\n",
              "    <tr>\n",
              "      <th>1</th>\n",
              "      <td>56</td>\n",
              "      <td>admin.</td>\n",
              "      <td>married</td>\n",
              "      <td>secondary</td>\n",
              "      <td>no</td>\n",
              "      <td>45</td>\n",
              "      <td>no</td>\n",
              "      <td>no</td>\n",
              "      <td>unknown</td>\n",
              "      <td>5</td>\n",
              "      <td>may</td>\n",
              "      <td>1467</td>\n",
              "      <td>1</td>\n",
              "      <td>-1</td>\n",
              "      <td>0</td>\n",
              "      <td>unknown</td>\n",
              "      <td>yes</td>\n",
              "    </tr>\n",
              "    <tr>\n",
              "      <th>2</th>\n",
              "      <td>41</td>\n",
              "      <td>technician</td>\n",
              "      <td>married</td>\n",
              "      <td>secondary</td>\n",
              "      <td>no</td>\n",
              "      <td>1270</td>\n",
              "      <td>yes</td>\n",
              "      <td>no</td>\n",
              "      <td>unknown</td>\n",
              "      <td>5</td>\n",
              "      <td>may</td>\n",
              "      <td>1389</td>\n",
              "      <td>1</td>\n",
              "      <td>-1</td>\n",
              "      <td>0</td>\n",
              "      <td>unknown</td>\n",
              "      <td>yes</td>\n",
              "    </tr>\n",
              "    <tr>\n",
              "      <th>3</th>\n",
              "      <td>55</td>\n",
              "      <td>services</td>\n",
              "      <td>married</td>\n",
              "      <td>secondary</td>\n",
              "      <td>no</td>\n",
              "      <td>2476</td>\n",
              "      <td>yes</td>\n",
              "      <td>no</td>\n",
              "      <td>unknown</td>\n",
              "      <td>5</td>\n",
              "      <td>may</td>\n",
              "      <td>579</td>\n",
              "      <td>1</td>\n",
              "      <td>-1</td>\n",
              "      <td>0</td>\n",
              "      <td>unknown</td>\n",
              "      <td>yes</td>\n",
              "    </tr>\n",
              "    <tr>\n",
              "      <th>4</th>\n",
              "      <td>54</td>\n",
              "      <td>admin.</td>\n",
              "      <td>married</td>\n",
              "      <td>tertiary</td>\n",
              "      <td>no</td>\n",
              "      <td>184</td>\n",
              "      <td>no</td>\n",
              "      <td>no</td>\n",
              "      <td>unknown</td>\n",
              "      <td>5</td>\n",
              "      <td>may</td>\n",
              "      <td>673</td>\n",
              "      <td>2</td>\n",
              "      <td>-1</td>\n",
              "      <td>0</td>\n",
              "      <td>unknown</td>\n",
              "      <td>yes</td>\n",
              "    </tr>\n",
              "  </tbody>\n",
              "</table>\n",
              "</div>"
            ],
            "text/plain": [
              "   age         job  marital  education  ... pdays  previous poutcome deposit\n",
              "0   59      admin.  married  secondary  ...    -1         0  unknown     yes\n",
              "1   56      admin.  married  secondary  ...    -1         0  unknown     yes\n",
              "2   41  technician  married  secondary  ...    -1         0  unknown     yes\n",
              "3   55    services  married  secondary  ...    -1         0  unknown     yes\n",
              "4   54      admin.  married   tertiary  ...    -1         0  unknown     yes\n",
              "\n",
              "[5 rows x 17 columns]"
            ]
          },
          "metadata": {
            "tags": []
          },
          "execution_count": 11
        }
      ]
    },
    {
      "cell_type": "markdown",
      "metadata": {
        "id": "0JJFqfO-HgEk",
        "colab_type": "text"
      },
      "source": [
        "# **Summay of data**\n",
        "**Categorical Variables :**\n",
        "\n",
        "[1] job : admin,technician, services, management, retired, blue-collar, unemployed, entrepreneur, housemaid, unknown, self-employed, student\n",
        "\n",
        "[2] marital : married, single, divorced \n",
        "\n",
        "[3] education: secondary, tertiary, primary, unknown \n",
        "\n",
        "[4] default : yes, no \n",
        "\n",
        "[5] housing : yes, no \n",
        "\n",
        "[6] loan : yes, no \n",
        "\n",
        "[7] deposit : yes, no (Dependent Variable) \n",
        "\n",
        "[8] contact : unknown, cellular, telephone \n",
        "\n",
        "[9] month : jan, feb, mar, apr, may, jun, jul, aug, sep, oct, nov, dec \n",
        "\n",
        "[10] poutcome: unknown, other, failure, success\n",
        "\n",
        "\n",
        "**Numerical Variables:**\n",
        "\n",
        "[1] age \n",
        "\n",
        "[2] balance\n",
        "\n",
        "[3] day \n",
        "\n",
        "[4] duration \n",
        "\n",
        "[5] campaign\n",
        "\n",
        "[6] pdays \n",
        "\n",
        "[7] previous"
      ]
    },
    {
      "cell_type": "code",
      "metadata": {
        "id": "ZR0-OG_pHyH8",
        "colab_type": "code",
        "outputId": "774997b6-ebf9-4e5b-ba49-f6142e1f4116",
        "colab": {
          "base_uri": "https://localhost:8080/",
          "height": 319
        }
      },
      "source": [
        "# Check if the data set contains any null values - Nothing found\n",
        "\n",
        "bank[bank.isnull().any(axis=1)].count()"
      ],
      "execution_count": 14,
      "outputs": [
        {
          "output_type": "execute_result",
          "data": {
            "text/plain": [
              "age          0\n",
              "job          0\n",
              "marital      0\n",
              "education    0\n",
              "default      0\n",
              "balance      0\n",
              "housing      0\n",
              "loan         0\n",
              "contact      0\n",
              "day          0\n",
              "month        0\n",
              "duration     0\n",
              "campaign     0\n",
              "pdays        0\n",
              "previous     0\n",
              "poutcome     0\n",
              "deposit      0\n",
              "dtype: int64"
            ]
          },
          "metadata": {
            "tags": []
          },
          "execution_count": 14
        }
      ]
    },
    {
      "cell_type": "code",
      "metadata": {
        "id": "7r-sbJ5PIkEd",
        "colab_type": "code",
        "outputId": "af044701-5733-469b-8b25-fc2139c1e7e4",
        "colab": {
          "base_uri": "https://localhost:8080/",
          "height": 284
        }
      },
      "source": [
        "bank.describe() #The Describe function work for to describe the datas status "
      ],
      "execution_count": 15,
      "outputs": [
        {
          "output_type": "execute_result",
          "data": {
            "text/html": [
              "<div>\n",
              "<style scoped>\n",
              "    .dataframe tbody tr th:only-of-type {\n",
              "        vertical-align: middle;\n",
              "    }\n",
              "\n",
              "    .dataframe tbody tr th {\n",
              "        vertical-align: top;\n",
              "    }\n",
              "\n",
              "    .dataframe thead th {\n",
              "        text-align: right;\n",
              "    }\n",
              "</style>\n",
              "<table border=\"1\" class=\"dataframe\">\n",
              "  <thead>\n",
              "    <tr style=\"text-align: right;\">\n",
              "      <th></th>\n",
              "      <th>age</th>\n",
              "      <th>balance</th>\n",
              "      <th>day</th>\n",
              "      <th>duration</th>\n",
              "      <th>campaign</th>\n",
              "      <th>pdays</th>\n",
              "      <th>previous</th>\n",
              "    </tr>\n",
              "  </thead>\n",
              "  <tbody>\n",
              "    <tr>\n",
              "      <th>count</th>\n",
              "      <td>11162.000000</td>\n",
              "      <td>11162.000000</td>\n",
              "      <td>11162.000000</td>\n",
              "      <td>11162.000000</td>\n",
              "      <td>11162.000000</td>\n",
              "      <td>11162.000000</td>\n",
              "      <td>11162.000000</td>\n",
              "    </tr>\n",
              "    <tr>\n",
              "      <th>mean</th>\n",
              "      <td>41.231948</td>\n",
              "      <td>1528.538524</td>\n",
              "      <td>15.658036</td>\n",
              "      <td>371.993818</td>\n",
              "      <td>2.508421</td>\n",
              "      <td>51.330407</td>\n",
              "      <td>0.832557</td>\n",
              "    </tr>\n",
              "    <tr>\n",
              "      <th>std</th>\n",
              "      <td>11.913369</td>\n",
              "      <td>3225.413326</td>\n",
              "      <td>8.420740</td>\n",
              "      <td>347.128386</td>\n",
              "      <td>2.722077</td>\n",
              "      <td>108.758282</td>\n",
              "      <td>2.292007</td>\n",
              "    </tr>\n",
              "    <tr>\n",
              "      <th>min</th>\n",
              "      <td>18.000000</td>\n",
              "      <td>-6847.000000</td>\n",
              "      <td>1.000000</td>\n",
              "      <td>2.000000</td>\n",
              "      <td>1.000000</td>\n",
              "      <td>-1.000000</td>\n",
              "      <td>0.000000</td>\n",
              "    </tr>\n",
              "    <tr>\n",
              "      <th>25%</th>\n",
              "      <td>32.000000</td>\n",
              "      <td>122.000000</td>\n",
              "      <td>8.000000</td>\n",
              "      <td>138.000000</td>\n",
              "      <td>1.000000</td>\n",
              "      <td>-1.000000</td>\n",
              "      <td>0.000000</td>\n",
              "    </tr>\n",
              "    <tr>\n",
              "      <th>50%</th>\n",
              "      <td>39.000000</td>\n",
              "      <td>550.000000</td>\n",
              "      <td>15.000000</td>\n",
              "      <td>255.000000</td>\n",
              "      <td>2.000000</td>\n",
              "      <td>-1.000000</td>\n",
              "      <td>0.000000</td>\n",
              "    </tr>\n",
              "    <tr>\n",
              "      <th>75%</th>\n",
              "      <td>49.000000</td>\n",
              "      <td>1708.000000</td>\n",
              "      <td>22.000000</td>\n",
              "      <td>496.000000</td>\n",
              "      <td>3.000000</td>\n",
              "      <td>20.750000</td>\n",
              "      <td>1.000000</td>\n",
              "    </tr>\n",
              "    <tr>\n",
              "      <th>max</th>\n",
              "      <td>95.000000</td>\n",
              "      <td>81204.000000</td>\n",
              "      <td>31.000000</td>\n",
              "      <td>3881.000000</td>\n",
              "      <td>63.000000</td>\n",
              "      <td>854.000000</td>\n",
              "      <td>58.000000</td>\n",
              "    </tr>\n",
              "  </tbody>\n",
              "</table>\n",
              "</div>"
            ],
            "text/plain": [
              "                age       balance  ...         pdays      previous\n",
              "count  11162.000000  11162.000000  ...  11162.000000  11162.000000\n",
              "mean      41.231948   1528.538524  ...     51.330407      0.832557\n",
              "std       11.913369   3225.413326  ...    108.758282      2.292007\n",
              "min       18.000000  -6847.000000  ...     -1.000000      0.000000\n",
              "25%       32.000000    122.000000  ...     -1.000000      0.000000\n",
              "50%       39.000000    550.000000  ...     -1.000000      0.000000\n",
              "75%       49.000000   1708.000000  ...     20.750000      1.000000\n",
              "max       95.000000  81204.000000  ...    854.000000     58.000000\n",
              "\n",
              "[8 rows x 7 columns]"
            ]
          },
          "metadata": {
            "tags": []
          },
          "execution_count": 15
        }
      ]
    },
    {
      "cell_type": "code",
      "metadata": {
        "id": "yZ6qjP-HI-7k",
        "colab_type": "code",
        "outputId": "aa3f77dd-aba2-457d-b989-ff532a857deb",
        "colab": {
          "base_uri": "https://localhost:8080/",
          "height": 283
        }
      },
      "source": [
        "# Boxplot for 'age'\n",
        "\n",
        "g = sns.boxplot(x=bank[\"age\"])"
      ],
      "execution_count": 16,
      "outputs": [
        {
          "output_type": "display_data",
          "data": {
            "image/png": "[encoded data removed]",
            "text/plain": [
              "<Figure size 432x288 with 1 Axes>"
            ]
          },
          "metadata": {
            "tags": []
          }
        }
      ]
    },
    {
      "cell_type": "code",
      "metadata": {
        "id": "VpGVcVt-JDWk",
        "colab_type": "code",
        "outputId": "47ae21e0-ea7c-4cad-9aaa-d3c8c7d07c09",
        "colab": {
          "base_uri": "https://localhost:8080/",
          "height": 300
        }
      },
      "source": [
        "# Distribution of Age\n",
        "\n",
        "sns.distplot(bank.age, bins=100)"
      ],
      "execution_count": 17,
      "outputs": [
        {
          "output_type": "execute_result",
          "data": {
            "text/plain": [
              "<matplotlib.axes._subplots.AxesSubplot at 0x7f0667ccbcf8>"
            ]
          },
          "metadata": {
            "tags": []
          },
          "execution_count": 17
        },
        {
          "output_type": "display_data",
          "data": {
            "image/png": "[encoded data removed]",
            "text/plain": [
              "<Figure size 432x288 with 1 Axes>"
            ]
          },
          "metadata": {
            "tags": []
          }
        }
      ]
    },
    {
      "cell_type": "code",
      "metadata": {
        "id": "0yRRJRADJS60",
        "colab_type": "code",
        "outputId": "122899a6-9a20-4bf7-b3f9-06949818e340",
        "colab": {
          "base_uri": "https://localhost:8080/",
          "height": 283
        }
      },
      "source": [
        "# Boxplot for 'duration'\n",
        "g = sns.boxplot(x=bank[\"duration\"])"
      ],
      "execution_count": 18,
      "outputs": [
        {
          "output_type": "display_data",
          "data": {
            "image/png": "[encoded data removed]",
            "text/plain": [
              "<Figure size 432x288 with 1 Axes>"
            ]
          },
          "metadata": {
            "tags": []
          }
        }
      ]
    },
    {
      "cell_type": "code",
      "metadata": {
        "id": "pVZLHtaEJzRl",
        "colab_type": "code",
        "outputId": "2ecdd6bf-d26f-4032-f367-881b1d935048",
        "colab": {
          "base_uri": "https://localhost:8080/",
          "height": 300
        }
      },
      "source": [
        "sns.distplot(bank.duration , bins=100)"
      ],
      "execution_count": 19,
      "outputs": [
        {
          "output_type": "execute_result",
          "data": {
            "text/plain": [
              "<matplotlib.axes._subplots.AxesSubplot at 0x7f066532d390>"
            ]
          },
          "metadata": {
            "tags": []
          },
          "execution_count": 19
        },
        {
          "output_type": "display_data",
          "data": {
            "image/png": "[encoded data removed]",
            "text/plain": [
              "<Figure size 432x288 with 1 Axes>"
            ]
          },
          "metadata": {
            "tags": []
          }
        }
      ]
    },
    {
      "cell_type": "markdown",
      "metadata": {
        "id": "uBdn4Aj8J_r0",
        "colab_type": "text"
      },
      "source": [
        "**Convert categorical data**"
      ]
    },
    {
      "cell_type": "markdown",
      "metadata": {
        "id": "ERebG83BOSo7",
        "colab_type": "text"
      },
      "source": [
        "Deal with Jobs"
      ]
    },
    {
      "cell_type": "code",
      "metadata": {
        "id": "w9PmZvrqKBwF",
        "colab_type": "code",
        "colab": {}
      },
      "source": [
        "# Make a copy for parsing\n",
        "bank_data = bank.copy()"
      ],
      "execution_count": 0,
      "outputs": []
    },
    {
      "cell_type": "code",
      "metadata": {
        "id": "WUgBlx3rKVsd",
        "colab_type": "code",
        "outputId": "e0946840-3a18-40e6-90b8-524454efae1e",
        "colab": {
          "base_uri": "https://localhost:8080/",
          "height": 218
        }
      },
      "source": [
        "# Explore People who made a deposit Vs Job category\n",
        "#According to people jobs categorie/position how many people depost money\n",
        "#1301 people deposit who did jobs in managements position and so on .\n",
        "\n",
        "jobs = ['management','blue-collar','technician','admin.','services','retired','self-employed','student',\\\n",
        "        'unemployed','entrepreneur','housemaid','unknown']\n",
        "\n",
        "for j in jobs:\n",
        "    print(\"{:15} : {:5}\" .format(j , len(bank_data[(bank_data.deposit==\"yes\") & (bank_data.job==j)])))"
      ],
      "execution_count": 21,
      "outputs": [
        {
          "output_type": "stream",
          "text": [
            "management      :  1301\n",
            "blue-collar     :   708\n",
            "technician      :   840\n",
            "admin.          :   631\n",
            "services        :   369\n",
            "retired         :   516\n",
            "self-employed   :   187\n",
            "student         :   269\n",
            "unemployed      :   202\n",
            "entrepreneur    :   123\n",
            "housemaid       :   109\n",
            "unknown         :    34\n"
          ],
          "name": "stdout"
        }
      ]
    },
    {
      "cell_type": "code",
      "metadata": {
        "id": "1X2SYM1sM-k3",
        "colab_type": "code",
        "outputId": "df6cfb05-5583-4bc3-af87-e76e4c716d26",
        "colab": {
          "base_uri": "https://localhost:8080/",
          "height": 235
        }
      },
      "source": [
        "# Different types of job categories and their counts\n",
        "bank_data.job.value_counts()"
      ],
      "execution_count": 23,
      "outputs": [
        {
          "output_type": "execute_result",
          "data": {
            "text/plain": [
              "management       2566\n",
              "blue-collar      1944\n",
              "technician       1823\n",
              "admin.           1334\n",
              "services          923\n",
              "retired           778\n",
              "self-employed     405\n",
              "student           360\n",
              "unemployed        357\n",
              "entrepreneur      328\n",
              "housemaid         274\n",
              "unknown            70\n",
              "Name: job, dtype: int64"
            ]
          },
          "metadata": {
            "tags": []
          },
          "execution_count": 23
        }
      ]
    },
    {
      "cell_type": "code",
      "metadata": {
        "id": "dJJNi32KNEoG",
        "colab_type": "code",
        "colab": {}
      },
      "source": [
        "# Combine similar jobs into categiroes\n",
        "#such as admin & management combine in white-colar and so on\n",
        "\n",
        "bank_data['job'] = bank_data['job'].replace(['management', 'admin.'], 'white-collar')\n",
        "bank_data['job'] = bank_data['job'].replace(['services','housemaid'], 'pink-collar')\n",
        "bank_data['job'] = bank_data['job'].replace(['retired', 'student', 'unemployed', 'unknown'], 'other')"
      ],
      "execution_count": 0,
      "outputs": []
    },
    {
      "cell_type": "markdown",
      "metadata": {
        "id": "rAKLEzGeObxe",
        "colab_type": "text"
      },
      "source": [
        "poutcome"
      ]
    },
    {
      "cell_type": "code",
      "metadata": {
        "id": "mrgrtd39OeZm",
        "colab_type": "code",
        "colab": {
          "base_uri": "https://localhost:8080/",
          "height": 101
        },
        "outputId": "2830ed28-006b-40b8-bd4c-98bb92b939ee"
      },
      "source": [
        "#count the values in the poutcome Column\n",
        "bank_data.poutcome.value_counts()"
      ],
      "execution_count": 26,
      "outputs": [
        {
          "output_type": "execute_result",
          "data": {
            "text/plain": [
              "unknown    8326\n",
              "failure    1228\n",
              "success    1071\n",
              "other       537\n",
              "Name: poutcome, dtype: int64"
            ]
          },
          "metadata": {
            "tags": []
          },
          "execution_count": 26
        }
      ]
    },
    {
      "cell_type": "code",
      "metadata": {
        "id": "OzUhG7VlOyy_",
        "colab_type": "code",
        "outputId": "ad1dadd3-a21e-4693-dbd4-314f594bf432",
        "colab": {
          "base_uri": "https://localhost:8080/",
          "height": 84
        }
      },
      "source": [
        "# Combine 'unknown' and 'other' as 'other' isn't really match with either 'success' or 'failure\n",
        "\n",
        "bank_data['poutcome'] = bank_data['poutcome'].replace(['other'] , 'unknown')\n",
        "bank_data.poutcome.value_counts()"
      ],
      "execution_count": 27,
      "outputs": [
        {
          "output_type": "execute_result",
          "data": {
            "text/plain": [
              "unknown    8863\n",
              "failure    1228\n",
              "success    1071\n",
              "Name: poutcome, dtype: int64"
            ]
          },
          "metadata": {
            "tags": []
          },
          "execution_count": 27
        }
      ]
    },
    {
      "cell_type": "markdown",
      "metadata": {
        "id": "TgJ0brJkPAZW",
        "colab_type": "text"
      },
      "source": [
        "Contact "
      ]
    },
    {
      "cell_type": "code",
      "metadata": {
        "id": "kH3GspX1PDiH",
        "colab_type": "code",
        "colab": {}
      },
      "source": [
        "# Drop 'contact', as every participant has been contacted. \n",
        "bank_data.drop('contact', axis=1, inplace=True)"
      ],
      "execution_count": 0,
      "outputs": []
    },
    {
      "cell_type": "markdown",
      "metadata": {
        "id": "UYvSFl57PQX2",
        "colab_type": "text"
      },
      "source": [
        "Default "
      ]
    },
    {
      "cell_type": "code",
      "metadata": {
        "id": "V4K_HwlvPSHe",
        "colab_type": "code",
        "colab": {}
      },
      "source": [
        "# values for \"default\" : yes/no\n",
        "bank_data[\"default\"]\n",
        "bank_data['default_cat'] = bank_data['default'].map( {'yes':1, 'no':0} )\n",
        "bank_data.drop('default', axis=1,inplace = True)"
      ],
      "execution_count": 0,
      "outputs": []
    },
    {
      "cell_type": "markdown",
      "metadata": {
        "id": "HXSTpDYPPZxm",
        "colab_type": "text"
      },
      "source": [
        "Housing "
      ]
    },
    {
      "cell_type": "code",
      "metadata": {
        "id": "6dvUt2_GPZDe",
        "colab_type": "code",
        "colab": {}
      },
      "source": [
        "# values for \"housing\" : yes/no\n",
        "bank_data[\"housing_cat\"]=bank_data['housing'].map({'yes':1, 'no':0})\n",
        "bank_data.drop('housing', axis=1,inplace = True)"
      ],
      "execution_count": 0,
      "outputs": []
    },
    {
      "cell_type": "markdown",
      "metadata": {
        "id": "M1V-plFgPd8G",
        "colab_type": "text"
      },
      "source": [
        "Loan "
      ]
    },
    {
      "cell_type": "code",
      "metadata": {
        "id": "58ywdU8hPfr-",
        "colab_type": "code",
        "colab": {}
      },
      "source": [
        "bank_data[\"loan_cat\"] = bank_data['loan'].map({'yes':1, 'no':0})\n",
        "bank_data.drop('loan', axis=1, inplace=True)"
      ],
      "execution_count": 0,
      "outputs": []
    },
    {
      "cell_type": "markdown",
      "metadata": {
        "id": "v0kTnbd7QPv2",
        "colab_type": "text"
      },
      "source": [
        "Month, Day"
      ]
    },
    {
      "cell_type": "code",
      "metadata": {
        "id": "xYSEDNXkQS5P",
        "colab_type": "code",
        "colab": {}
      },
      "source": [
        "# day  : last contact day of the month\n",
        "# month: last contact month of year\n",
        "# Drop 'month' and 'day' as they don't have any intrinsic meaning\n",
        "bank_data.drop('month', axis=1, inplace=True)\n",
        "bank_data.drop('day', axis=1, inplace=True)"
      ],
      "execution_count": 0,
      "outputs": []
    },
    {
      "cell_type": "markdown",
      "metadata": {
        "id": "wydLpiq9PkhG",
        "colab_type": "text"
      },
      "source": [
        "Deposit "
      ]
    },
    {
      "cell_type": "code",
      "metadata": {
        "id": "hCqwYrjOPmEm",
        "colab_type": "code",
        "colab": {}
      },
      "source": [
        "# values for \"deposit\" : yes/no\n",
        "bank_data[\"deposit_cat\"] = bank_data['deposit'].map({'yes':1, 'no':0})\n",
        "bank_data.drop('deposit', axis=1, inplace=True)"
      ],
      "execution_count": 0,
      "outputs": []
    },
    {
      "cell_type": "markdown",
      "metadata": {
        "id": "yMrKjyvgQVGY",
        "colab_type": "text"
      },
      "source": [
        "pdays "
      ]
    },
    {
      "cell_type": "code",
      "metadata": {
        "id": "BUdrtszhQW9Q",
        "colab_type": "code",
        "outputId": "d59890bc-208d-4c18-d651-46697967c9a0",
        "colab": {
          "base_uri": "https://localhost:8080/",
          "height": 50
        }
      },
      "source": [
        "# pdays: number of days that passed by after the client was last contacted from a previous campaign\n",
        "#       -1 means client was not previously contacted\n",
        "\n",
        "print(\"Customers that have not been contacted before:\", len(bank_data[bank_data.pdays==-1]))\n",
        "print(\"Maximum values on padys    :\", bank_data['pdays'].max())"
      ],
      "execution_count": 34,
      "outputs": [
        {
          "output_type": "stream",
          "text": [
            "Customers that have not been contacted before: 8324\n",
            "Maximum values on padys    : 854\n"
          ],
          "name": "stdout"
        }
      ]
    },
    {
      "cell_type": "code",
      "metadata": {
        "id": "7MA09SvlQamW",
        "colab_type": "code",
        "colab": {}
      },
      "source": [
        "# Map padys=-1 into a large value (10000 is used) to indicate that it is so far in the past that it has no effect\n",
        "bank_data.loc[bank_data['pdays'] == -1, 'pdays'] = 10000"
      ],
      "execution_count": 0,
      "outputs": []
    },
    {
      "cell_type": "code",
      "metadata": {
        "id": "PWp2WPuLQfOn",
        "colab_type": "code",
        "colab": {}
      },
      "source": [
        "# Create a new column: recent_pdays \n",
        "bank_data['recent_pdays'] = np.where(bank_data['pdays'], 1/bank_data.pdays, 1/bank_data.pdays)\n",
        "\n",
        "# Drop 'pdays'\n",
        "bank_data.drop('pdays', axis=1, inplace = True)"
      ],
      "execution_count": 0,
      "outputs": []
    },
    {
      "cell_type": "code",
      "metadata": {
        "id": "OS9Gr4kGQieP",
        "colab_type": "code",
        "outputId": "55669db5-9a50-4149-dbbd-3c2d37c650cd",
        "colab": {
          "base_uri": "https://localhost:8080/",
          "height": 195
        }
      },
      "source": [
        "bank_data.tail()"
      ],
      "execution_count": 37,
      "outputs": [
        {
          "output_type": "execute_result",
          "data": {
            "text/html": [
              "<div>\n",
              "<style scoped>\n",
              "    .dataframe tbody tr th:only-of-type {\n",
              "        vertical-align: middle;\n",
              "    }\n",
              "\n",
              "    .dataframe tbody tr th {\n",
              "        vertical-align: top;\n",
              "    }\n",
              "\n",
              "    .dataframe thead th {\n",
              "        text-align: right;\n",
              "    }\n",
              "</style>\n",
              "<table border=\"1\" class=\"dataframe\">\n",
              "  <thead>\n",
              "    <tr style=\"text-align: right;\">\n",
              "      <th></th>\n",
              "      <th>age</th>\n",
              "      <th>job</th>\n",
              "      <th>marital</th>\n",
              "      <th>education</th>\n",
              "      <th>balance</th>\n",
              "      <th>duration</th>\n",
              "      <th>campaign</th>\n",
              "      <th>previous</th>\n",
              "      <th>poutcome</th>\n",
              "      <th>default_cat</th>\n",
              "      <th>housing_cat</th>\n",
              "      <th>loan_cat</th>\n",
              "      <th>deposit_cat</th>\n",
              "      <th>recent_pdays</th>\n",
              "    </tr>\n",
              "  </thead>\n",
              "  <tbody>\n",
              "    <tr>\n",
              "      <th>11157</th>\n",
              "      <td>33</td>\n",
              "      <td>blue-collar</td>\n",
              "      <td>single</td>\n",
              "      <td>primary</td>\n",
              "      <td>1</td>\n",
              "      <td>257</td>\n",
              "      <td>1</td>\n",
              "      <td>0</td>\n",
              "      <td>unknown</td>\n",
              "      <td>0</td>\n",
              "      <td>1</td>\n",
              "      <td>0</td>\n",
              "      <td>0</td>\n",
              "      <td>0.000100</td>\n",
              "    </tr>\n",
              "    <tr>\n",
              "      <th>11158</th>\n",
              "      <td>39</td>\n",
              "      <td>pink-collar</td>\n",
              "      <td>married</td>\n",
              "      <td>secondary</td>\n",
              "      <td>733</td>\n",
              "      <td>83</td>\n",
              "      <td>4</td>\n",
              "      <td>0</td>\n",
              "      <td>unknown</td>\n",
              "      <td>0</td>\n",
              "      <td>0</td>\n",
              "      <td>0</td>\n",
              "      <td>0</td>\n",
              "      <td>0.000100</td>\n",
              "    </tr>\n",
              "    <tr>\n",
              "      <th>11159</th>\n",
              "      <td>32</td>\n",
              "      <td>technician</td>\n",
              "      <td>single</td>\n",
              "      <td>secondary</td>\n",
              "      <td>29</td>\n",
              "      <td>156</td>\n",
              "      <td>2</td>\n",
              "      <td>0</td>\n",
              "      <td>unknown</td>\n",
              "      <td>0</td>\n",
              "      <td>0</td>\n",
              "      <td>0</td>\n",
              "      <td>0</td>\n",
              "      <td>0.000100</td>\n",
              "    </tr>\n",
              "    <tr>\n",
              "      <th>11160</th>\n",
              "      <td>43</td>\n",
              "      <td>technician</td>\n",
              "      <td>married</td>\n",
              "      <td>secondary</td>\n",
              "      <td>0</td>\n",
              "      <td>9</td>\n",
              "      <td>2</td>\n",
              "      <td>5</td>\n",
              "      <td>failure</td>\n",
              "      <td>0</td>\n",
              "      <td>0</td>\n",
              "      <td>1</td>\n",
              "      <td>0</td>\n",
              "      <td>0.005814</td>\n",
              "    </tr>\n",
              "    <tr>\n",
              "      <th>11161</th>\n",
              "      <td>34</td>\n",
              "      <td>technician</td>\n",
              "      <td>married</td>\n",
              "      <td>secondary</td>\n",
              "      <td>0</td>\n",
              "      <td>628</td>\n",
              "      <td>1</td>\n",
              "      <td>0</td>\n",
              "      <td>unknown</td>\n",
              "      <td>0</td>\n",
              "      <td>0</td>\n",
              "      <td>0</td>\n",
              "      <td>0</td>\n",
              "      <td>0.000100</td>\n",
              "    </tr>\n",
              "  </tbody>\n",
              "</table>\n",
              "</div>"
            ],
            "text/plain": [
              "       age          job  marital  ... loan_cat  deposit_cat  recent_pdays\n",
              "11157   33  blue-collar   single  ...        0            0      0.000100\n",
              "11158   39  pink-collar  married  ...        0            0      0.000100\n",
              "11159   32   technician   single  ...        0            0      0.000100\n",
              "11160   43   technician  married  ...        1            0      0.005814\n",
              "11161   34   technician  married  ...        0            0      0.000100\n",
              "\n",
              "[5 rows x 14 columns]"
            ]
          },
          "metadata": {
            "tags": []
          },
          "execution_count": 37
        }
      ]
    },
    {
      "cell_type": "markdown",
      "metadata": {
        "id": "DkdLOJxDQndH",
        "colab_type": "text"
      },
      "source": [
        "**Convert to dummy values**"
      ]
    },
    {
      "cell_type": "code",
      "metadata": {
        "id": "nytE2ffjQmq6",
        "colab_type": "code",
        "outputId": "e3862f13-88a1-4976-d8cc-d729a6e720fd",
        "colab": {
          "base_uri": "https://localhost:8080/",
          "height": 232
        }
      },
      "source": [
        "# Convert categorical variables to dummies\n",
        "bank_with_dummies = pd.get_dummies(data=bank_data , columns= ['job', 'marital', 'education', 'poutcome'], \\\n",
        "                                   prefix = ['job', 'marital', 'education', 'poutcome'])\n",
        "bank_with_dummies.head()"
      ],
      "execution_count": 38,
      "outputs": [
        {
          "output_type": "execute_result",
          "data": {
            "text/html": [
              "<div>\n",
              "<style scoped>\n",
              "    .dataframe tbody tr th:only-of-type {\n",
              "        vertical-align: middle;\n",
              "    }\n",
              "\n",
              "    .dataframe tbody tr th {\n",
              "        vertical-align: top;\n",
              "    }\n",
              "\n",
              "    .dataframe thead th {\n",
              "        text-align: right;\n",
              "    }\n",
              "</style>\n",
              "<table border=\"1\" class=\"dataframe\">\n",
              "  <thead>\n",
              "    <tr style=\"text-align: right;\">\n",
              "      <th></th>\n",
              "      <th>age</th>\n",
              "      <th>balance</th>\n",
              "      <th>duration</th>\n",
              "      <th>campaign</th>\n",
              "      <th>previous</th>\n",
              "      <th>default_cat</th>\n",
              "      <th>housing_cat</th>\n",
              "      <th>loan_cat</th>\n",
              "      <th>deposit_cat</th>\n",
              "      <th>recent_pdays</th>\n",
              "      <th>job_blue-collar</th>\n",
              "      <th>job_entrepreneur</th>\n",
              "      <th>job_other</th>\n",
              "      <th>job_pink-collar</th>\n",
              "      <th>job_self-employed</th>\n",
              "      <th>job_technician</th>\n",
              "      <th>job_white-collar</th>\n",
              "      <th>marital_divorced</th>\n",
              "      <th>marital_married</th>\n",
              "      <th>marital_single</th>\n",
              "      <th>education_primary</th>\n",
              "      <th>education_secondary</th>\n",
              "      <th>education_tertiary</th>\n",
              "      <th>education_unknown</th>\n",
              "      <th>poutcome_failure</th>\n",
              "      <th>poutcome_success</th>\n",
              "      <th>poutcome_unknown</th>\n",
              "    </tr>\n",
              "  </thead>\n",
              "  <tbody>\n",
              "    <tr>\n",
              "      <th>0</th>\n",
              "      <td>59</td>\n",
              "      <td>2343</td>\n",
              "      <td>1042</td>\n",
              "      <td>1</td>\n",
              "      <td>0</td>\n",
              "      <td>0</td>\n",
              "      <td>1</td>\n",
              "      <td>0</td>\n",
              "      <td>1</td>\n",
              "      <td>0.0001</td>\n",
              "      <td>0</td>\n",
              "      <td>0</td>\n",
              "      <td>0</td>\n",
              "      <td>0</td>\n",
              "      <td>0</td>\n",
              "      <td>0</td>\n",
              "      <td>1</td>\n",
              "      <td>0</td>\n",
              "      <td>1</td>\n",
              "      <td>0</td>\n",
              "      <td>0</td>\n",
              "      <td>1</td>\n",
              "      <td>0</td>\n",
              "      <td>0</td>\n",
              "      <td>0</td>\n",
              "      <td>0</td>\n",
              "      <td>1</td>\n",
              "    </tr>\n",
              "    <tr>\n",
              "      <th>1</th>\n",
              "      <td>56</td>\n",
              "      <td>45</td>\n",
              "      <td>1467</td>\n",
              "      <td>1</td>\n",
              "      <td>0</td>\n",
              "      <td>0</td>\n",
              "      <td>0</td>\n",
              "      <td>0</td>\n",
              "      <td>1</td>\n",
              "      <td>0.0001</td>\n",
              "      <td>0</td>\n",
              "      <td>0</td>\n",
              "      <td>0</td>\n",
              "      <td>0</td>\n",
              "      <td>0</td>\n",
              "      <td>0</td>\n",
              "      <td>1</td>\n",
              "      <td>0</td>\n",
              "      <td>1</td>\n",
              "      <td>0</td>\n",
              "      <td>0</td>\n",
              "      <td>1</td>\n",
              "      <td>0</td>\n",
              "      <td>0</td>\n",
              "      <td>0</td>\n",
              "      <td>0</td>\n",
              "      <td>1</td>\n",
              "    </tr>\n",
              "    <tr>\n",
              "      <th>2</th>\n",
              "      <td>41</td>\n",
              "      <td>1270</td>\n",
              "      <td>1389</td>\n",
              "      <td>1</td>\n",
              "      <td>0</td>\n",
              "      <td>0</td>\n",
              "      <td>1</td>\n",
              "      <td>0</td>\n",
              "      <td>1</td>\n",
              "      <td>0.0001</td>\n",
              "      <td>0</td>\n",
              "      <td>0</td>\n",
              "      <td>0</td>\n",
              "      <td>0</td>\n",
              "      <td>0</td>\n",
              "      <td>1</td>\n",
              "      <td>0</td>\n",
              "      <td>0</td>\n",
              "      <td>1</td>\n",
              "      <td>0</td>\n",
              "      <td>0</td>\n",
              "      <td>1</td>\n",
              "      <td>0</td>\n",
              "      <td>0</td>\n",
              "      <td>0</td>\n",
              "      <td>0</td>\n",
              "      <td>1</td>\n",
              "    </tr>\n",
              "    <tr>\n",
              "      <th>3</th>\n",
              "      <td>55</td>\n",
              "      <td>2476</td>\n",
              "      <td>579</td>\n",
              "      <td>1</td>\n",
              "      <td>0</td>\n",
              "      <td>0</td>\n",
              "      <td>1</td>\n",
              "      <td>0</td>\n",
              "      <td>1</td>\n",
              "      <td>0.0001</td>\n",
              "      <td>0</td>\n",
              "      <td>0</td>\n",
              "      <td>0</td>\n",
              "      <td>1</td>\n",
              "      <td>0</td>\n",
              "      <td>0</td>\n",
              "      <td>0</td>\n",
              "      <td>0</td>\n",
              "      <td>1</td>\n",
              "      <td>0</td>\n",
              "      <td>0</td>\n",
              "      <td>1</td>\n",
              "      <td>0</td>\n",
              "      <td>0</td>\n",
              "      <td>0</td>\n",
              "      <td>0</td>\n",
              "      <td>1</td>\n",
              "    </tr>\n",
              "    <tr>\n",
              "      <th>4</th>\n",
              "      <td>54</td>\n",
              "      <td>184</td>\n",
              "      <td>673</td>\n",
              "      <td>2</td>\n",
              "      <td>0</td>\n",
              "      <td>0</td>\n",
              "      <td>0</td>\n",
              "      <td>0</td>\n",
              "      <td>1</td>\n",
              "      <td>0.0001</td>\n",
              "      <td>0</td>\n",
              "      <td>0</td>\n",
              "      <td>0</td>\n",
              "      <td>0</td>\n",
              "      <td>0</td>\n",
              "      <td>0</td>\n",
              "      <td>1</td>\n",
              "      <td>0</td>\n",
              "      <td>1</td>\n",
              "      <td>0</td>\n",
              "      <td>0</td>\n",
              "      <td>0</td>\n",
              "      <td>1</td>\n",
              "      <td>0</td>\n",
              "      <td>0</td>\n",
              "      <td>0</td>\n",
              "      <td>1</td>\n",
              "    </tr>\n",
              "  </tbody>\n",
              "</table>\n",
              "</div>"
            ],
            "text/plain": [
              "   age  balance  duration  ...  poutcome_failure  poutcome_success  poutcome_unknown\n",
              "0   59     2343      1042  ...                 0                 0                 1\n",
              "1   56       45      1467  ...                 0                 0                 1\n",
              "2   41     1270      1389  ...                 0                 0                 1\n",
              "3   55     2476       579  ...                 0                 0                 1\n",
              "4   54      184       673  ...                 0                 0                 1\n",
              "\n",
              "[5 rows x 27 columns]"
            ]
          },
          "metadata": {
            "tags": []
          },
          "execution_count": 38
        }
      ]
    },
    {
      "cell_type": "code",
      "metadata": {
        "id": "4eRnoNoYRMXX",
        "colab_type": "code",
        "outputId": "d0706098-9b96-49e7-f928-70f3c0754ccc",
        "colab": {
          "base_uri": "https://localhost:8080/",
          "height": 34
        }
      },
      "source": [
        "bank_with_dummies.shape"
      ],
      "execution_count": 39,
      "outputs": [
        {
          "output_type": "execute_result",
          "data": {
            "text/plain": [
              "(11162, 27)"
            ]
          },
          "metadata": {
            "tags": []
          },
          "execution_count": 39
        }
      ]
    },
    {
      "cell_type": "code",
      "metadata": {
        "id": "a_yueEu6RS1H",
        "colab_type": "code",
        "outputId": "093ab9d6-6e4c-473c-c32d-7574bcc16dae",
        "colab": {
          "base_uri": "https://localhost:8080/",
          "height": 321
        }
      },
      "source": [
        "bank_with_dummies.describe()"
      ],
      "execution_count": 40,
      "outputs": [
        {
          "output_type": "execute_result",
          "data": {
            "text/html": [
              "<div>\n",
              "<style scoped>\n",
              "    .dataframe tbody tr th:only-of-type {\n",
              "        vertical-align: middle;\n",
              "    }\n",
              "\n",
              "    .dataframe tbody tr th {\n",
              "        vertical-align: top;\n",
              "    }\n",
              "\n",
              "    .dataframe thead th {\n",
              "        text-align: right;\n",
              "    }\n",
              "</style>\n",
              "<table border=\"1\" class=\"dataframe\">\n",
              "  <thead>\n",
              "    <tr style=\"text-align: right;\">\n",
              "      <th></th>\n",
              "      <th>age</th>\n",
              "      <th>balance</th>\n",
              "      <th>duration</th>\n",
              "      <th>campaign</th>\n",
              "      <th>previous</th>\n",
              "      <th>default_cat</th>\n",
              "      <th>housing_cat</th>\n",
              "      <th>loan_cat</th>\n",
              "      <th>deposit_cat</th>\n",
              "      <th>recent_pdays</th>\n",
              "      <th>job_blue-collar</th>\n",
              "      <th>job_entrepreneur</th>\n",
              "      <th>job_other</th>\n",
              "      <th>job_pink-collar</th>\n",
              "      <th>job_self-employed</th>\n",
              "      <th>job_technician</th>\n",
              "      <th>job_white-collar</th>\n",
              "      <th>marital_divorced</th>\n",
              "      <th>marital_married</th>\n",
              "      <th>marital_single</th>\n",
              "      <th>education_primary</th>\n",
              "      <th>education_secondary</th>\n",
              "      <th>education_tertiary</th>\n",
              "      <th>education_unknown</th>\n",
              "      <th>poutcome_failure</th>\n",
              "      <th>poutcome_success</th>\n",
              "      <th>poutcome_unknown</th>\n",
              "    </tr>\n",
              "  </thead>\n",
              "  <tbody>\n",
              "    <tr>\n",
              "      <th>count</th>\n",
              "      <td>11162.000000</td>\n",
              "      <td>11162.000000</td>\n",
              "      <td>11162.000000</td>\n",
              "      <td>11162.000000</td>\n",
              "      <td>11162.000000</td>\n",
              "      <td>11162.000000</td>\n",
              "      <td>11162.000000</td>\n",
              "      <td>11162.000000</td>\n",
              "      <td>11162.000000</td>\n",
              "      <td>11162.000000</td>\n",
              "      <td>11162.000000</td>\n",
              "      <td>11162.000000</td>\n",
              "      <td>11162.000000</td>\n",
              "      <td>11162.000000</td>\n",
              "      <td>11162.000000</td>\n",
              "      <td>11162.000000</td>\n",
              "      <td>11162.000000</td>\n",
              "      <td>11162.000000</td>\n",
              "      <td>11162.000000</td>\n",
              "      <td>11162.000000</td>\n",
              "      <td>11162.000000</td>\n",
              "      <td>11162.000000</td>\n",
              "      <td>11162.000000</td>\n",
              "      <td>11162.000000</td>\n",
              "      <td>11162.000000</td>\n",
              "      <td>11162.000000</td>\n",
              "      <td>11162.000000</td>\n",
              "    </tr>\n",
              "    <tr>\n",
              "      <th>mean</th>\n",
              "      <td>41.231948</td>\n",
              "      <td>1528.538524</td>\n",
              "      <td>371.993818</td>\n",
              "      <td>2.508421</td>\n",
              "      <td>0.832557</td>\n",
              "      <td>0.015051</td>\n",
              "      <td>0.473123</td>\n",
              "      <td>0.130801</td>\n",
              "      <td>0.473840</td>\n",
              "      <td>0.003124</td>\n",
              "      <td>0.174162</td>\n",
              "      <td>0.029385</td>\n",
              "      <td>0.140208</td>\n",
              "      <td>0.107239</td>\n",
              "      <td>0.036284</td>\n",
              "      <td>0.163322</td>\n",
              "      <td>0.349400</td>\n",
              "      <td>0.115839</td>\n",
              "      <td>0.568984</td>\n",
              "      <td>0.315176</td>\n",
              "      <td>0.134385</td>\n",
              "      <td>0.490593</td>\n",
              "      <td>0.330496</td>\n",
              "      <td>0.044526</td>\n",
              "      <td>0.110016</td>\n",
              "      <td>0.095951</td>\n",
              "      <td>0.794033</td>\n",
              "    </tr>\n",
              "    <tr>\n",
              "      <th>std</th>\n",
              "      <td>11.913369</td>\n",
              "      <td>3225.413326</td>\n",
              "      <td>347.128386</td>\n",
              "      <td>2.722077</td>\n",
              "      <td>2.292007</td>\n",
              "      <td>0.121761</td>\n",
              "      <td>0.499299</td>\n",
              "      <td>0.337198</td>\n",
              "      <td>0.499338</td>\n",
              "      <td>0.030686</td>\n",
              "      <td>0.379266</td>\n",
              "      <td>0.168892</td>\n",
              "      <td>0.347218</td>\n",
              "      <td>0.309431</td>\n",
              "      <td>0.187004</td>\n",
              "      <td>0.369676</td>\n",
              "      <td>0.476802</td>\n",
              "      <td>0.320047</td>\n",
              "      <td>0.495241</td>\n",
              "      <td>0.464607</td>\n",
              "      <td>0.341080</td>\n",
              "      <td>0.499934</td>\n",
              "      <td>0.470413</td>\n",
              "      <td>0.206270</td>\n",
              "      <td>0.312924</td>\n",
              "      <td>0.294537</td>\n",
              "      <td>0.404424</td>\n",
              "    </tr>\n",
              "    <tr>\n",
              "      <th>min</th>\n",
              "      <td>18.000000</td>\n",
              "      <td>-6847.000000</td>\n",
              "      <td>2.000000</td>\n",
              "      <td>1.000000</td>\n",
              "      <td>0.000000</td>\n",
              "      <td>0.000000</td>\n",
              "      <td>0.000000</td>\n",
              "      <td>0.000000</td>\n",
              "      <td>0.000000</td>\n",
              "      <td>0.000100</td>\n",
              "      <td>0.000000</td>\n",
              "      <td>0.000000</td>\n",
              "      <td>0.000000</td>\n",
              "      <td>0.000000</td>\n",
              "      <td>0.000000</td>\n",
              "      <td>0.000000</td>\n",
              "      <td>0.000000</td>\n",
              "      <td>0.000000</td>\n",
              "      <td>0.000000</td>\n",
              "      <td>0.000000</td>\n",
              "      <td>0.000000</td>\n",
              "      <td>0.000000</td>\n",
              "      <td>0.000000</td>\n",
              "      <td>0.000000</td>\n",
              "      <td>0.000000</td>\n",
              "      <td>0.000000</td>\n",
              "      <td>0.000000</td>\n",
              "    </tr>\n",
              "    <tr>\n",
              "      <th>25%</th>\n",
              "      <td>32.000000</td>\n",
              "      <td>122.000000</td>\n",
              "      <td>138.000000</td>\n",
              "      <td>1.000000</td>\n",
              "      <td>0.000000</td>\n",
              "      <td>0.000000</td>\n",
              "      <td>0.000000</td>\n",
              "      <td>0.000000</td>\n",
              "      <td>0.000000</td>\n",
              "      <td>0.000100</td>\n",
              "      <td>0.000000</td>\n",
              "      <td>0.000000</td>\n",
              "      <td>0.000000</td>\n",
              "      <td>0.000000</td>\n",
              "      <td>0.000000</td>\n",
              "      <td>0.000000</td>\n",
              "      <td>0.000000</td>\n",
              "      <td>0.000000</td>\n",
              "      <td>0.000000</td>\n",
              "      <td>0.000000</td>\n",
              "      <td>0.000000</td>\n",
              "      <td>0.000000</td>\n",
              "      <td>0.000000</td>\n",
              "      <td>0.000000</td>\n",
              "      <td>0.000000</td>\n",
              "      <td>0.000000</td>\n",
              "      <td>1.000000</td>\n",
              "    </tr>\n",
              "    <tr>\n",
              "      <th>50%</th>\n",
              "      <td>39.000000</td>\n",
              "      <td>550.000000</td>\n",
              "      <td>255.000000</td>\n",
              "      <td>2.000000</td>\n",
              "      <td>0.000000</td>\n",
              "      <td>0.000000</td>\n",
              "      <td>0.000000</td>\n",
              "      <td>0.000000</td>\n",
              "      <td>0.000000</td>\n",
              "      <td>0.000100</td>\n",
              "      <td>0.000000</td>\n",
              "      <td>0.000000</td>\n",
              "      <td>0.000000</td>\n",
              "      <td>0.000000</td>\n",
              "      <td>0.000000</td>\n",
              "      <td>0.000000</td>\n",
              "      <td>0.000000</td>\n",
              "      <td>0.000000</td>\n",
              "      <td>1.000000</td>\n",
              "      <td>0.000000</td>\n",
              "      <td>0.000000</td>\n",
              "      <td>0.000000</td>\n",
              "      <td>0.000000</td>\n",
              "      <td>0.000000</td>\n",
              "      <td>0.000000</td>\n",
              "      <td>0.000000</td>\n",
              "      <td>1.000000</td>\n",
              "    </tr>\n",
              "    <tr>\n",
              "      <th>75%</th>\n",
              "      <td>49.000000</td>\n",
              "      <td>1708.000000</td>\n",
              "      <td>496.000000</td>\n",
              "      <td>3.000000</td>\n",
              "      <td>1.000000</td>\n",
              "      <td>0.000000</td>\n",
              "      <td>1.000000</td>\n",
              "      <td>0.000000</td>\n",
              "      <td>1.000000</td>\n",
              "      <td>0.001919</td>\n",
              "      <td>0.000000</td>\n",
              "      <td>0.000000</td>\n",
              "      <td>0.000000</td>\n",
              "      <td>0.000000</td>\n",
              "      <td>0.000000</td>\n",
              "      <td>0.000000</td>\n",
              "      <td>1.000000</td>\n",
              "      <td>0.000000</td>\n",
              "      <td>1.000000</td>\n",
              "      <td>1.000000</td>\n",
              "      <td>0.000000</td>\n",
              "      <td>1.000000</td>\n",
              "      <td>1.000000</td>\n",
              "      <td>0.000000</td>\n",
              "      <td>0.000000</td>\n",
              "      <td>0.000000</td>\n",
              "      <td>1.000000</td>\n",
              "    </tr>\n",
              "    <tr>\n",
              "      <th>max</th>\n",
              "      <td>95.000000</td>\n",
              "      <td>81204.000000</td>\n",
              "      <td>3881.000000</td>\n",
              "      <td>63.000000</td>\n",
              "      <td>58.000000</td>\n",
              "      <td>1.000000</td>\n",
              "      <td>1.000000</td>\n",
              "      <td>1.000000</td>\n",
              "      <td>1.000000</td>\n",
              "      <td>1.000000</td>\n",
              "      <td>1.000000</td>\n",
              "      <td>1.000000</td>\n",
              "      <td>1.000000</td>\n",
              "      <td>1.000000</td>\n",
              "      <td>1.000000</td>\n",
              "      <td>1.000000</td>\n",
              "      <td>1.000000</td>\n",
              "      <td>1.000000</td>\n",
              "      <td>1.000000</td>\n",
              "      <td>1.000000</td>\n",
              "      <td>1.000000</td>\n",
              "      <td>1.000000</td>\n",
              "      <td>1.000000</td>\n",
              "      <td>1.000000</td>\n",
              "      <td>1.000000</td>\n",
              "      <td>1.000000</td>\n",
              "      <td>1.000000</td>\n",
              "    </tr>\n",
              "  </tbody>\n",
              "</table>\n",
              "</div>"
            ],
            "text/plain": [
              "                age       balance  ...  poutcome_success  poutcome_unknown\n",
              "count  11162.000000  11162.000000  ...      11162.000000      11162.000000\n",
              "mean      41.231948   1528.538524  ...          0.095951          0.794033\n",
              "std       11.913369   3225.413326  ...          0.294537          0.404424\n",
              "min       18.000000  -6847.000000  ...          0.000000          0.000000\n",
              "25%       32.000000    122.000000  ...          0.000000          1.000000\n",
              "50%       39.000000    550.000000  ...          0.000000          1.000000\n",
              "75%       49.000000   1708.000000  ...          0.000000          1.000000\n",
              "max       95.000000  81204.000000  ...          1.000000          1.000000\n",
              "\n",
              "[8 rows x 27 columns]"
            ]
          },
          "metadata": {
            "tags": []
          },
          "execution_count": 40
        }
      ]
    },
    {
      "cell_type": "markdown",
      "metadata": {
        "id": "gz30UcP7RWCX",
        "colab_type": "text"
      },
      "source": [
        "**Observations on whole population**"
      ]
    },
    {
      "cell_type": "code",
      "metadata": {
        "id": "kG3JPQRXRXVf",
        "colab_type": "code",
        "outputId": "23bb7e16-bb91-4828-853b-30fcfcea148d",
        "colab": {
          "base_uri": "https://localhost:8080/",
          "height": 283
        }
      },
      "source": [
        "# Scatterplot showing age and balance\n",
        "bank_with_dummies.plot(kind='scatter', x='age', y='balance');\n",
        "\n",
        "# Across all ages, majority of people have savings of less than 20000."
      ],
      "execution_count": 41,
      "outputs": [
        {
          "output_type": "display_data",
          "data": {
            "image/png": "[encoded data removed]",
            "text/plain": [
              "<Figure size 432x288 with 1 Axes>"
            ]
          },
          "metadata": {
            "tags": []
          }
        }
      ]
    },
    {
      "cell_type": "code",
      "metadata": {
        "id": "njaEZG9URegY",
        "colab_type": "code",
        "outputId": "db6f2281-68e7-4b8f-d750-597e1098c67d",
        "colab": {
          "base_uri": "https://localhost:8080/",
          "height": 269
        }
      },
      "source": [
        "bank_with_dummies.plot(kind='hist', x='poutcome_success', y='duration');"
      ],
      "execution_count": 42,
      "outputs": [
        {
          "output_type": "display_data",
          "data": {
            "image/png": "[encoded data removed]",
            "text/plain": [
              "<Figure size 432x288 with 1 Axes>"
            ]
          },
          "metadata": {
            "tags": []
          }
        }
      ]
    },
    {
      "cell_type": "markdown",
      "metadata": {
        "id": "hNYuBu6ZRk13",
        "colab_type": "text"
      },
      "source": [
        "Analysis on people who sign up for a term deposite"
      ]
    },
    {
      "cell_type": "code",
      "metadata": {
        "id": "BeLCNOTXRiC_",
        "colab_type": "code",
        "outputId": "488057be-719b-4588-d74d-9daa14ee29e3",
        "colab": {
          "base_uri": "https://localhost:8080/",
          "height": 321
        }
      },
      "source": [
        "# People who sign up to a term deposite\n",
        "bank_with_dummies[bank_data.deposit_cat == 1].describe()"
      ],
      "execution_count": 43,
      "outputs": [
        {
          "output_type": "execute_result",
          "data": {
            "text/html": [
              "<div>\n",
              "<style scoped>\n",
              "    .dataframe tbody tr th:only-of-type {\n",
              "        vertical-align: middle;\n",
              "    }\n",
              "\n",
              "    .dataframe tbody tr th {\n",
              "        vertical-align: top;\n",
              "    }\n",
              "\n",
              "    .dataframe thead th {\n",
              "        text-align: right;\n",
              "    }\n",
              "</style>\n",
              "<table border=\"1\" class=\"dataframe\">\n",
              "  <thead>\n",
              "    <tr style=\"text-align: right;\">\n",
              "      <th></th>\n",
              "      <th>age</th>\n",
              "      <th>balance</th>\n",
              "      <th>duration</th>\n",
              "      <th>campaign</th>\n",
              "      <th>previous</th>\n",
              "      <th>default_cat</th>\n",
              "      <th>housing_cat</th>\n",
              "      <th>loan_cat</th>\n",
              "      <th>deposit_cat</th>\n",
              "      <th>recent_pdays</th>\n",
              "      <th>job_blue-collar</th>\n",
              "      <th>job_entrepreneur</th>\n",
              "      <th>job_other</th>\n",
              "      <th>job_pink-collar</th>\n",
              "      <th>job_self-employed</th>\n",
              "      <th>job_technician</th>\n",
              "      <th>job_white-collar</th>\n",
              "      <th>marital_divorced</th>\n",
              "      <th>marital_married</th>\n",
              "      <th>marital_single</th>\n",
              "      <th>education_primary</th>\n",
              "      <th>education_secondary</th>\n",
              "      <th>education_tertiary</th>\n",
              "      <th>education_unknown</th>\n",
              "      <th>poutcome_failure</th>\n",
              "      <th>poutcome_success</th>\n",
              "      <th>poutcome_unknown</th>\n",
              "    </tr>\n",
              "  </thead>\n",
              "  <tbody>\n",
              "    <tr>\n",
              "      <th>count</th>\n",
              "      <td>5289.000000</td>\n",
              "      <td>5289.000000</td>\n",
              "      <td>5289.000000</td>\n",
              "      <td>5289.000000</td>\n",
              "      <td>5289.000000</td>\n",
              "      <td>5289.000000</td>\n",
              "      <td>5289.000000</td>\n",
              "      <td>5289.000000</td>\n",
              "      <td>5289.0</td>\n",
              "      <td>5289.000000</td>\n",
              "      <td>5289.000000</td>\n",
              "      <td>5289.000000</td>\n",
              "      <td>5289.000000</td>\n",
              "      <td>5289.000000</td>\n",
              "      <td>5289.000000</td>\n",
              "      <td>5289.000000</td>\n",
              "      <td>5289.000000</td>\n",
              "      <td>5289.000000</td>\n",
              "      <td>5289.000000</td>\n",
              "      <td>5289.000000</td>\n",
              "      <td>5289.000000</td>\n",
              "      <td>5289.000000</td>\n",
              "      <td>5289.000000</td>\n",
              "      <td>5289.000000</td>\n",
              "      <td>5289.000000</td>\n",
              "      <td>5289.000000</td>\n",
              "      <td>5289.000000</td>\n",
              "    </tr>\n",
              "    <tr>\n",
              "      <th>mean</th>\n",
              "      <td>41.670070</td>\n",
              "      <td>1804.267915</td>\n",
              "      <td>537.294574</td>\n",
              "      <td>2.141047</td>\n",
              "      <td>1.170354</td>\n",
              "      <td>0.009832</td>\n",
              "      <td>0.365854</td>\n",
              "      <td>0.091511</td>\n",
              "      <td>1.0</td>\n",
              "      <td>0.004238</td>\n",
              "      <td>0.133863</td>\n",
              "      <td>0.023256</td>\n",
              "      <td>0.193042</td>\n",
              "      <td>0.090376</td>\n",
              "      <td>0.035356</td>\n",
              "      <td>0.158820</td>\n",
              "      <td>0.365286</td>\n",
              "      <td>0.117603</td>\n",
              "      <td>0.520892</td>\n",
              "      <td>0.361505</td>\n",
              "      <td>0.111741</td>\n",
              "      <td>0.463226</td>\n",
              "      <td>0.377387</td>\n",
              "      <td>0.047646</td>\n",
              "      <td>0.116846</td>\n",
              "      <td>0.184912</td>\n",
              "      <td>0.698242</td>\n",
              "    </tr>\n",
              "    <tr>\n",
              "      <th>std</th>\n",
              "      <td>13.497781</td>\n",
              "      <td>3501.104777</td>\n",
              "      <td>392.525262</td>\n",
              "      <td>1.921826</td>\n",
              "      <td>2.553272</td>\n",
              "      <td>0.098676</td>\n",
              "      <td>0.481714</td>\n",
              "      <td>0.288361</td>\n",
              "      <td>0.0</td>\n",
              "      <td>0.035686</td>\n",
              "      <td>0.340537</td>\n",
              "      <td>0.150729</td>\n",
              "      <td>0.394723</td>\n",
              "      <td>0.286747</td>\n",
              "      <td>0.184696</td>\n",
              "      <td>0.365543</td>\n",
              "      <td>0.481556</td>\n",
              "      <td>0.322167</td>\n",
              "      <td>0.499611</td>\n",
              "      <td>0.480482</td>\n",
              "      <td>0.315078</td>\n",
              "      <td>0.498693</td>\n",
              "      <td>0.484779</td>\n",
              "      <td>0.213036</td>\n",
              "      <td>0.321267</td>\n",
              "      <td>0.388263</td>\n",
              "      <td>0.459064</td>\n",
              "    </tr>\n",
              "    <tr>\n",
              "      <th>min</th>\n",
              "      <td>18.000000</td>\n",
              "      <td>-3058.000000</td>\n",
              "      <td>8.000000</td>\n",
              "      <td>1.000000</td>\n",
              "      <td>0.000000</td>\n",
              "      <td>0.000000</td>\n",
              "      <td>0.000000</td>\n",
              "      <td>0.000000</td>\n",
              "      <td>1.0</td>\n",
              "      <td>0.000100</td>\n",
              "      <td>0.000000</td>\n",
              "      <td>0.000000</td>\n",
              "      <td>0.000000</td>\n",
              "      <td>0.000000</td>\n",
              "      <td>0.000000</td>\n",
              "      <td>0.000000</td>\n",
              "      <td>0.000000</td>\n",
              "      <td>0.000000</td>\n",
              "      <td>0.000000</td>\n",
              "      <td>0.000000</td>\n",
              "      <td>0.000000</td>\n",
              "      <td>0.000000</td>\n",
              "      <td>0.000000</td>\n",
              "      <td>0.000000</td>\n",
              "      <td>0.000000</td>\n",
              "      <td>0.000000</td>\n",
              "      <td>0.000000</td>\n",
              "    </tr>\n",
              "    <tr>\n",
              "      <th>25%</th>\n",
              "      <td>31.000000</td>\n",
              "      <td>210.000000</td>\n",
              "      <td>244.000000</td>\n",
              "      <td>1.000000</td>\n",
              "      <td>0.000000</td>\n",
              "      <td>0.000000</td>\n",
              "      <td>0.000000</td>\n",
              "      <td>0.000000</td>\n",
              "      <td>1.0</td>\n",
              "      <td>0.000100</td>\n",
              "      <td>0.000000</td>\n",
              "      <td>0.000000</td>\n",
              "      <td>0.000000</td>\n",
              "      <td>0.000000</td>\n",
              "      <td>0.000000</td>\n",
              "      <td>0.000000</td>\n",
              "      <td>0.000000</td>\n",
              "      <td>0.000000</td>\n",
              "      <td>0.000000</td>\n",
              "      <td>0.000000</td>\n",
              "      <td>0.000000</td>\n",
              "      <td>0.000000</td>\n",
              "      <td>0.000000</td>\n",
              "      <td>0.000000</td>\n",
              "      <td>0.000000</td>\n",
              "      <td>0.000000</td>\n",
              "      <td>0.000000</td>\n",
              "    </tr>\n",
              "    <tr>\n",
              "      <th>50%</th>\n",
              "      <td>38.000000</td>\n",
              "      <td>733.000000</td>\n",
              "      <td>426.000000</td>\n",
              "      <td>2.000000</td>\n",
              "      <td>0.000000</td>\n",
              "      <td>0.000000</td>\n",
              "      <td>0.000000</td>\n",
              "      <td>0.000000</td>\n",
              "      <td>1.0</td>\n",
              "      <td>0.000100</td>\n",
              "      <td>0.000000</td>\n",
              "      <td>0.000000</td>\n",
              "      <td>0.000000</td>\n",
              "      <td>0.000000</td>\n",
              "      <td>0.000000</td>\n",
              "      <td>0.000000</td>\n",
              "      <td>0.000000</td>\n",
              "      <td>0.000000</td>\n",
              "      <td>1.000000</td>\n",
              "      <td>0.000000</td>\n",
              "      <td>0.000000</td>\n",
              "      <td>0.000000</td>\n",
              "      <td>0.000000</td>\n",
              "      <td>0.000000</td>\n",
              "      <td>0.000000</td>\n",
              "      <td>0.000000</td>\n",
              "      <td>1.000000</td>\n",
              "    </tr>\n",
              "    <tr>\n",
              "      <th>75%</th>\n",
              "      <td>50.000000</td>\n",
              "      <td>2159.000000</td>\n",
              "      <td>725.000000</td>\n",
              "      <td>3.000000</td>\n",
              "      <td>1.000000</td>\n",
              "      <td>0.000000</td>\n",
              "      <td>1.000000</td>\n",
              "      <td>0.000000</td>\n",
              "      <td>1.0</td>\n",
              "      <td>0.005128</td>\n",
              "      <td>0.000000</td>\n",
              "      <td>0.000000</td>\n",
              "      <td>0.000000</td>\n",
              "      <td>0.000000</td>\n",
              "      <td>0.000000</td>\n",
              "      <td>0.000000</td>\n",
              "      <td>1.000000</td>\n",
              "      <td>0.000000</td>\n",
              "      <td>1.000000</td>\n",
              "      <td>1.000000</td>\n",
              "      <td>0.000000</td>\n",
              "      <td>1.000000</td>\n",
              "      <td>1.000000</td>\n",
              "      <td>0.000000</td>\n",
              "      <td>0.000000</td>\n",
              "      <td>0.000000</td>\n",
              "      <td>1.000000</td>\n",
              "    </tr>\n",
              "    <tr>\n",
              "      <th>max</th>\n",
              "      <td>95.000000</td>\n",
              "      <td>81204.000000</td>\n",
              "      <td>3881.000000</td>\n",
              "      <td>32.000000</td>\n",
              "      <td>58.000000</td>\n",
              "      <td>1.000000</td>\n",
              "      <td>1.000000</td>\n",
              "      <td>1.000000</td>\n",
              "      <td>1.0</td>\n",
              "      <td>1.000000</td>\n",
              "      <td>1.000000</td>\n",
              "      <td>1.000000</td>\n",
              "      <td>1.000000</td>\n",
              "      <td>1.000000</td>\n",
              "      <td>1.000000</td>\n",
              "      <td>1.000000</td>\n",
              "      <td>1.000000</td>\n",
              "      <td>1.000000</td>\n",
              "      <td>1.000000</td>\n",
              "      <td>1.000000</td>\n",
              "      <td>1.000000</td>\n",
              "      <td>1.000000</td>\n",
              "      <td>1.000000</td>\n",
              "      <td>1.000000</td>\n",
              "      <td>1.000000</td>\n",
              "      <td>1.000000</td>\n",
              "      <td>1.000000</td>\n",
              "    </tr>\n",
              "  </tbody>\n",
              "</table>\n",
              "</div>"
            ],
            "text/plain": [
              "               age       balance  ...  poutcome_success  poutcome_unknown\n",
              "count  5289.000000   5289.000000  ...       5289.000000       5289.000000\n",
              "mean     41.670070   1804.267915  ...          0.184912          0.698242\n",
              "std      13.497781   3501.104777  ...          0.388263          0.459064\n",
              "min      18.000000  -3058.000000  ...          0.000000          0.000000\n",
              "25%      31.000000    210.000000  ...          0.000000          0.000000\n",
              "50%      38.000000    733.000000  ...          0.000000          1.000000\n",
              "75%      50.000000   2159.000000  ...          0.000000          1.000000\n",
              "max      95.000000  81204.000000  ...          1.000000          1.000000\n",
              "\n",
              "[8 rows x 27 columns]"
            ]
          },
          "metadata": {
            "tags": []
          },
          "execution_count": 43
        }
      ]
    },
    {
      "cell_type": "code",
      "metadata": {
        "id": "Wo5g6vIXUWxI",
        "colab_type": "code",
        "outputId": "20893238-f9a3-44b0-a014-f4add1cc587c",
        "colab": {
          "base_uri": "https://localhost:8080/",
          "height": 34
        }
      },
      "source": [
        "# People signed up to a term deposite having a personal loan (loan_cat) and housing loan (housing_cat)\n",
        "\n",
        "len(bank_with_dummies[(bank_with_dummies.deposit_cat == 1) & (bank_with_dummies.loan_cat) & (bank_with_dummies.housing_cat)])"
      ],
      "execution_count": 44,
      "outputs": [
        {
          "output_type": "execute_result",
          "data": {
            "text/plain": [
              "265"
            ]
          },
          "metadata": {
            "tags": []
          },
          "execution_count": 44
        }
      ]
    },
    {
      "cell_type": "code",
      "metadata": {
        "id": "PgAmwRjTUcDo",
        "colab_type": "code",
        "outputId": "66ad14a6-33b5-4a9b-ead4-fc85c6d5e11c",
        "colab": {
          "base_uri": "https://localhost:8080/",
          "height": 34
        }
      },
      "source": [
        "# People signed up to a term deposite with a credit default \n",
        "\n",
        "len(bank_with_dummies[(bank_with_dummies.deposit_cat == 1) & (bank_with_dummies.default_cat ==1)])"
      ],
      "execution_count": 45,
      "outputs": [
        {
          "output_type": "execute_result",
          "data": {
            "text/plain": [
              "52"
            ]
          },
          "metadata": {
            "tags": []
          },
          "execution_count": 45
        }
      ]
    },
    {
      "cell_type": "code",
      "metadata": {
        "id": "SymozmtPUfAa",
        "colab_type": "code",
        "outputId": "c1661f81-ba4d-4980-83f2-bd83f62dc89d",
        "colab": {
          "base_uri": "https://localhost:8080/",
          "height": 409
        }
      },
      "source": [
        "# Bar chart of job Vs deposite\n",
        "plt.figure(figsize = (10,6))\n",
        "sns.barplot(x='job', y = 'deposit_cat', data = bank_data)"
      ],
      "execution_count": 46,
      "outputs": [
        {
          "output_type": "execute_result",
          "data": {
            "text/plain": [
              "<matplotlib.axes._subplots.AxesSubplot at 0x7f0663e450b8>"
            ]
          },
          "metadata": {
            "tags": []
          },
          "execution_count": 46
        },
        {
          "output_type": "display_data",
          "data": {
            "image/png": "[encoded data removed]",
            "text/plain": [
              "<Figure size 720x432 with 1 Axes>"
            ]
          },
          "metadata": {
            "tags": []
          }
        }
      ]
    },
    {
      "cell_type": "code",
      "metadata": {
        "id": "ZosagFwtUi5I",
        "colab_type": "code",
        "outputId": "94a8e49c-4f76-4b23-c307-d003742878c5",
        "colab": {
          "base_uri": "https://localhost:8080/",
          "height": 409
        }
      },
      "source": [
        "# Bar chart of \"previous outcome\" Vs \"call duration\"\n",
        "\n",
        "plt.figure(figsize = (10,6))\n",
        "sns.barplot(x='poutcome', y = 'duration', data = bank_data)"
      ],
      "execution_count": 47,
      "outputs": [
        {
          "output_type": "execute_result",
          "data": {
            "text/plain": [
              "<matplotlib.axes._subplots.AxesSubplot at 0x7f0663dd6588>"
            ]
          },
          "metadata": {
            "tags": []
          },
          "execution_count": 47
        },
        {
          "output_type": "display_data",
          "data": {
            "image/png": "[encoded data removed]",
            "text/plain": [
              "<Figure size 720x432 with 1 Axes>"
            ]
          },
          "metadata": {
            "tags": []
          }
        }
      ]
    },
    {
      "cell_type": "markdown",
      "metadata": {
        "id": "LeLlRPnFUnQF",
        "colab_type": "text"
      },
      "source": [
        "**Classification**"
      ]
    },
    {
      "cell_type": "code",
      "metadata": {
        "id": "tVclzH90Umo7",
        "colab_type": "code",
        "colab": {}
      },
      "source": [
        "# make a copy\n",
        "bankcl = bank_with_dummies"
      ],
      "execution_count": 0,
      "outputs": []
    },
    {
      "cell_type": "code",
      "metadata": {
        "id": "9t56DERIUrzQ",
        "colab_type": "code",
        "outputId": "b334b97d-fb8e-45ab-aa6d-62e8645fee40",
        "colab": {
          "base_uri": "https://localhost:8080/",
          "height": 883
        }
      },
      "source": [
        "#The Correltion  Matrix #corr is a fucntion\n",
        "corr= bankcl.corr()\n",
        "corr"
      ],
      "execution_count": 50,
      "outputs": [
        {
          "output_type": "execute_result",
          "data": {
            "text/html": [
              "<div>\n",
              "<style scoped>\n",
              "    .dataframe tbody tr th:only-of-type {\n",
              "        vertical-align: middle;\n",
              "    }\n",
              "\n",
              "    .dataframe tbody tr th {\n",
              "        vertical-align: top;\n",
              "    }\n",
              "\n",
              "    .dataframe thead th {\n",
              "        text-align: right;\n",
              "    }\n",
              "</style>\n",
              "<table border=\"1\" class=\"dataframe\">\n",
              "  <thead>\n",
              "    <tr style=\"text-align: right;\">\n",
              "      <th></th>\n",
              "      <th>age</th>\n",
              "      <th>balance</th>\n",
              "      <th>duration</th>\n",
              "      <th>campaign</th>\n",
              "      <th>previous</th>\n",
              "      <th>default_cat</th>\n",
              "      <th>housing_cat</th>\n",
              "      <th>loan_cat</th>\n",
              "      <th>deposit_cat</th>\n",
              "      <th>recent_pdays</th>\n",
              "      <th>job_blue-collar</th>\n",
              "      <th>job_entrepreneur</th>\n",
              "      <th>job_other</th>\n",
              "      <th>job_pink-collar</th>\n",
              "      <th>job_self-employed</th>\n",
              "      <th>job_technician</th>\n",
              "      <th>job_white-collar</th>\n",
              "      <th>marital_divorced</th>\n",
              "      <th>marital_married</th>\n",
              "      <th>marital_single</th>\n",
              "      <th>education_primary</th>\n",
              "      <th>education_secondary</th>\n",
              "      <th>education_tertiary</th>\n",
              "      <th>education_unknown</th>\n",
              "      <th>poutcome_failure</th>\n",
              "      <th>poutcome_success</th>\n",
              "      <th>poutcome_unknown</th>\n",
              "    </tr>\n",
              "  </thead>\n",
              "  <tbody>\n",
              "    <tr>\n",
              "      <th>age</th>\n",
              "      <td>1.000000</td>\n",
              "      <td>0.112300</td>\n",
              "      <td>0.000189</td>\n",
              "      <td>-0.005278</td>\n",
              "      <td>0.020169</td>\n",
              "      <td>-0.011425</td>\n",
              "      <td>-0.168700</td>\n",
              "      <td>-0.031418</td>\n",
              "      <td>0.034901</td>\n",
              "      <td>0.019102</td>\n",
              "      <td>-0.066567</td>\n",
              "      <td>0.024176</td>\n",
              "      <td>0.296418</td>\n",
              "      <td>-0.027942</td>\n",
              "      <td>-0.023163</td>\n",
              "      <td>-0.082716</td>\n",
              "      <td>-0.080122</td>\n",
              "      <td>0.186349</td>\n",
              "      <td>0.318436</td>\n",
              "      <td>-0.467799</td>\n",
              "      <td>0.231150</td>\n",
              "      <td>-0.094400</td>\n",
              "      <td>-0.101372</td>\n",
              "      <td>0.077761</td>\n",
              "      <td>-0.008071</td>\n",
              "      <td>0.062114</td>\n",
              "      <td>-0.038992</td>\n",
              "    </tr>\n",
              "    <tr>\n",
              "      <th>balance</th>\n",
              "      <td>0.112300</td>\n",
              "      <td>1.000000</td>\n",
              "      <td>0.022436</td>\n",
              "      <td>-0.013894</td>\n",
              "      <td>0.030805</td>\n",
              "      <td>-0.060954</td>\n",
              "      <td>-0.077092</td>\n",
              "      <td>-0.084589</td>\n",
              "      <td>0.081129</td>\n",
              "      <td>-0.004379</td>\n",
              "      <td>-0.046220</td>\n",
              "      <td>0.005039</td>\n",
              "      <td>0.050744</td>\n",
              "      <td>-0.041063</td>\n",
              "      <td>0.020264</td>\n",
              "      <td>0.003802</td>\n",
              "      <td>0.013780</td>\n",
              "      <td>-0.017586</td>\n",
              "      <td>0.025431</td>\n",
              "      <td>-0.014994</td>\n",
              "      <td>-0.000673</td>\n",
              "      <td>-0.070609</td>\n",
              "      <td>0.069128</td>\n",
              "      <td>0.014596</td>\n",
              "      <td>0.001695</td>\n",
              "      <td>0.045603</td>\n",
              "      <td>-0.034524</td>\n",
              "    </tr>\n",
              "    <tr>\n",
              "      <th>duration</th>\n",
              "      <td>0.000189</td>\n",
              "      <td>0.022436</td>\n",
              "      <td>1.000000</td>\n",
              "      <td>-0.041557</td>\n",
              "      <td>-0.026716</td>\n",
              "      <td>-0.009760</td>\n",
              "      <td>0.035051</td>\n",
              "      <td>-0.001914</td>\n",
              "      <td>0.451919</td>\n",
              "      <td>-0.014868</td>\n",
              "      <td>0.029986</td>\n",
              "      <td>-0.000908</td>\n",
              "      <td>0.010680</td>\n",
              "      <td>0.005345</td>\n",
              "      <td>0.013506</td>\n",
              "      <td>-0.010440</td>\n",
              "      <td>-0.031980</td>\n",
              "      <td>0.021364</td>\n",
              "      <td>-0.036179</td>\n",
              "      <td>0.023847</td>\n",
              "      <td>0.013405</td>\n",
              "      <td>0.003820</td>\n",
              "      <td>-0.006813</td>\n",
              "      <td>-0.015887</td>\n",
              "      <td>-0.033966</td>\n",
              "      <td>-0.022578</td>\n",
              "      <td>0.042725</td>\n",
              "    </tr>\n",
              "    <tr>\n",
              "      <th>campaign</th>\n",
              "      <td>-0.005278</td>\n",
              "      <td>-0.013894</td>\n",
              "      <td>-0.041557</td>\n",
              "      <td>1.000000</td>\n",
              "      <td>-0.049699</td>\n",
              "      <td>0.030975</td>\n",
              "      <td>0.006660</td>\n",
              "      <td>0.034722</td>\n",
              "      <td>-0.128081</td>\n",
              "      <td>-0.026296</td>\n",
              "      <td>0.005522</td>\n",
              "      <td>0.013883</td>\n",
              "      <td>-0.050212</td>\n",
              "      <td>0.011958</td>\n",
              "      <td>0.001776</td>\n",
              "      <td>0.021738</td>\n",
              "      <td>0.001944</td>\n",
              "      <td>-0.006828</td>\n",
              "      <td>0.047722</td>\n",
              "      <td>-0.046165</td>\n",
              "      <td>0.019915</td>\n",
              "      <td>-0.013834</td>\n",
              "      <td>-0.005427</td>\n",
              "      <td>0.012976</td>\n",
              "      <td>-0.080188</td>\n",
              "      <td>-0.091807</td>\n",
              "      <td>0.128907</td>\n",
              "    </tr>\n",
              "    <tr>\n",
              "      <th>previous</th>\n",
              "      <td>0.020169</td>\n",
              "      <td>0.030805</td>\n",
              "      <td>-0.026716</td>\n",
              "      <td>-0.049699</td>\n",
              "      <td>1.000000</td>\n",
              "      <td>-0.035273</td>\n",
              "      <td>-0.000840</td>\n",
              "      <td>-0.022668</td>\n",
              "      <td>0.139867</td>\n",
              "      <td>0.122076</td>\n",
              "      <td>-0.039939</td>\n",
              "      <td>-0.022470</td>\n",
              "      <td>0.031191</td>\n",
              "      <td>-0.028623</td>\n",
              "      <td>-0.002338</td>\n",
              "      <td>0.002035</td>\n",
              "      <td>0.034929</td>\n",
              "      <td>-0.026566</td>\n",
              "      <td>-0.005176</td>\n",
              "      <td>0.023817</td>\n",
              "      <td>-0.024852</td>\n",
              "      <td>-0.004620</td>\n",
              "      <td>0.028146</td>\n",
              "      <td>-0.011898</td>\n",
              "      <td>0.335870</td>\n",
              "      <td>0.325477</td>\n",
              "      <td>-0.496921</td>\n",
              "    </tr>\n",
              "    <tr>\n",
              "      <th>default_cat</th>\n",
              "      <td>-0.011425</td>\n",
              "      <td>-0.060954</td>\n",
              "      <td>-0.009760</td>\n",
              "      <td>0.030975</td>\n",
              "      <td>-0.035273</td>\n",
              "      <td>1.000000</td>\n",
              "      <td>0.011076</td>\n",
              "      <td>0.076434</td>\n",
              "      <td>-0.040680</td>\n",
              "      <td>-0.011290</td>\n",
              "      <td>0.022779</td>\n",
              "      <td>0.022060</td>\n",
              "      <td>-0.018130</td>\n",
              "      <td>-0.007173</td>\n",
              "      <td>0.007493</td>\n",
              "      <td>0.003109</td>\n",
              "      <td>-0.013425</td>\n",
              "      <td>0.019633</td>\n",
              "      <td>-0.006819</td>\n",
              "      <td>-0.006255</td>\n",
              "      <td>0.013858</td>\n",
              "      <td>-0.000618</td>\n",
              "      <td>-0.011768</td>\n",
              "      <td>0.005421</td>\n",
              "      <td>-0.024650</td>\n",
              "      <td>-0.040272</td>\n",
              "      <td>0.048403</td>\n",
              "    </tr>\n",
              "    <tr>\n",
              "      <th>housing_cat</th>\n",
              "      <td>-0.168700</td>\n",
              "      <td>-0.077092</td>\n",
              "      <td>0.035051</td>\n",
              "      <td>0.006660</td>\n",
              "      <td>-0.000840</td>\n",
              "      <td>0.011076</td>\n",
              "      <td>1.000000</td>\n",
              "      <td>0.076761</td>\n",
              "      <td>-0.203888</td>\n",
              "      <td>-0.029350</td>\n",
              "      <td>0.189848</td>\n",
              "      <td>0.011492</td>\n",
              "      <td>-0.233309</td>\n",
              "      <td>0.043884</td>\n",
              "      <td>-0.016903</td>\n",
              "      <td>0.006551</td>\n",
              "      <td>-0.012111</td>\n",
              "      <td>0.007430</td>\n",
              "      <td>0.036305</td>\n",
              "      <td>-0.043817</td>\n",
              "      <td>0.017002</td>\n",
              "      <td>0.118514</td>\n",
              "      <td>-0.114955</td>\n",
              "      <td>-0.053191</td>\n",
              "      <td>0.087741</td>\n",
              "      <td>-0.136299</td>\n",
              "      <td>0.031375</td>\n",
              "    </tr>\n",
              "    <tr>\n",
              "      <th>loan_cat</th>\n",
              "      <td>-0.031418</td>\n",
              "      <td>-0.084589</td>\n",
              "      <td>-0.001914</td>\n",
              "      <td>0.034722</td>\n",
              "      <td>-0.022668</td>\n",
              "      <td>0.076434</td>\n",
              "      <td>0.076761</td>\n",
              "      <td>1.000000</td>\n",
              "      <td>-0.110580</td>\n",
              "      <td>-0.012697</td>\n",
              "      <td>0.057956</td>\n",
              "      <td>0.042631</td>\n",
              "      <td>-0.096196</td>\n",
              "      <td>0.014969</td>\n",
              "      <td>0.004299</td>\n",
              "      <td>0.006864</td>\n",
              "      <td>-0.007871</td>\n",
              "      <td>0.026463</td>\n",
              "      <td>0.044148</td>\n",
              "      <td>-0.065288</td>\n",
              "      <td>0.006854</td>\n",
              "      <td>0.079583</td>\n",
              "      <td>-0.067513</td>\n",
              "      <td>-0.050249</td>\n",
              "      <td>0.006264</td>\n",
              "      <td>-0.080370</td>\n",
              "      <td>0.053686</td>\n",
              "    </tr>\n",
              "    <tr>\n",
              "      <th>deposit_cat</th>\n",
              "      <td>0.034901</td>\n",
              "      <td>0.081129</td>\n",
              "      <td>0.451919</td>\n",
              "      <td>-0.128081</td>\n",
              "      <td>0.139867</td>\n",
              "      <td>-0.040680</td>\n",
              "      <td>-0.203888</td>\n",
              "      <td>-0.110580</td>\n",
              "      <td>1.000000</td>\n",
              "      <td>0.034457</td>\n",
              "      <td>-0.100840</td>\n",
              "      <td>-0.034443</td>\n",
              "      <td>0.144408</td>\n",
              "      <td>-0.051717</td>\n",
              "      <td>-0.004707</td>\n",
              "      <td>-0.011557</td>\n",
              "      <td>0.031621</td>\n",
              "      <td>0.005228</td>\n",
              "      <td>-0.092157</td>\n",
              "      <td>0.094632</td>\n",
              "      <td>-0.063002</td>\n",
              "      <td>-0.051952</td>\n",
              "      <td>0.094598</td>\n",
              "      <td>0.014355</td>\n",
              "      <td>0.020714</td>\n",
              "      <td>0.286642</td>\n",
              "      <td>-0.224785</td>\n",
              "    </tr>\n",
              "    <tr>\n",
              "      <th>recent_pdays</th>\n",
              "      <td>0.019102</td>\n",
              "      <td>-0.004379</td>\n",
              "      <td>-0.014868</td>\n",
              "      <td>-0.026296</td>\n",
              "      <td>0.122076</td>\n",
              "      <td>-0.011290</td>\n",
              "      <td>-0.029350</td>\n",
              "      <td>-0.012697</td>\n",
              "      <td>0.034457</td>\n",
              "      <td>1.000000</td>\n",
              "      <td>-0.018514</td>\n",
              "      <td>0.006251</td>\n",
              "      <td>0.024356</td>\n",
              "      <td>-0.001183</td>\n",
              "      <td>-0.008226</td>\n",
              "      <td>-0.007412</td>\n",
              "      <td>0.004516</td>\n",
              "      <td>-0.020253</td>\n",
              "      <td>0.009583</td>\n",
              "      <td>0.003736</td>\n",
              "      <td>-0.007034</td>\n",
              "      <td>-0.017129</td>\n",
              "      <td>0.017346</td>\n",
              "      <td>0.013590</td>\n",
              "      <td>0.051422</td>\n",
              "      <td>0.119598</td>\n",
              "      <td>-0.126890</td>\n",
              "    </tr>\n",
              "    <tr>\n",
              "      <th>job_blue-collar</th>\n",
              "      <td>-0.066567</td>\n",
              "      <td>-0.046220</td>\n",
              "      <td>0.029986</td>\n",
              "      <td>0.005522</td>\n",
              "      <td>-0.039939</td>\n",
              "      <td>0.022779</td>\n",
              "      <td>0.189848</td>\n",
              "      <td>0.057956</td>\n",
              "      <td>-0.100840</td>\n",
              "      <td>-0.018514</td>\n",
              "      <td>1.000000</td>\n",
              "      <td>-0.079905</td>\n",
              "      <td>-0.185447</td>\n",
              "      <td>-0.159162</td>\n",
              "      <td>-0.089107</td>\n",
              "      <td>-0.202896</td>\n",
              "      <td>-0.336538</td>\n",
              "      <td>-0.056240</td>\n",
              "      <td>0.109188</td>\n",
              "      <td>-0.077645</td>\n",
              "      <td>0.299737</td>\n",
              "      <td>0.076687</td>\n",
              "      <td>-0.298548</td>\n",
              "      <td>-0.000640</td>\n",
              "      <td>-0.018022</td>\n",
              "      <td>-0.077422</td>\n",
              "      <td>0.070330</td>\n",
              "    </tr>\n",
              "    <tr>\n",
              "      <th>job_entrepreneur</th>\n",
              "      <td>0.024176</td>\n",
              "      <td>0.005039</td>\n",
              "      <td>-0.000908</td>\n",
              "      <td>0.013883</td>\n",
              "      <td>-0.022470</td>\n",
              "      <td>0.022060</td>\n",
              "      <td>0.011492</td>\n",
              "      <td>0.042631</td>\n",
              "      <td>-0.034443</td>\n",
              "      <td>0.006251</td>\n",
              "      <td>-0.079905</td>\n",
              "      <td>1.000000</td>\n",
              "      <td>-0.070264</td>\n",
              "      <td>-0.060305</td>\n",
              "      <td>-0.033762</td>\n",
              "      <td>-0.076875</td>\n",
              "      <td>-0.127511</td>\n",
              "      <td>0.006638</td>\n",
              "      <td>0.050746</td>\n",
              "      <td>-0.058665</td>\n",
              "      <td>-0.004788</td>\n",
              "      <td>-0.021132</td>\n",
              "      <td>0.026612</td>\n",
              "      <td>-0.001555</td>\n",
              "      <td>-0.001840</td>\n",
              "      <td>-0.035072</td>\n",
              "      <td>0.026966</td>\n",
              "    </tr>\n",
              "    <tr>\n",
              "      <th>job_other</th>\n",
              "      <td>0.296418</td>\n",
              "      <td>0.050744</td>\n",
              "      <td>0.010680</td>\n",
              "      <td>-0.050212</td>\n",
              "      <td>0.031191</td>\n",
              "      <td>-0.018130</td>\n",
              "      <td>-0.233309</td>\n",
              "      <td>-0.096196</td>\n",
              "      <td>0.144408</td>\n",
              "      <td>0.024356</td>\n",
              "      <td>-0.185447</td>\n",
              "      <td>-0.070264</td>\n",
              "      <td>1.000000</td>\n",
              "      <td>-0.139958</td>\n",
              "      <td>-0.078356</td>\n",
              "      <td>-0.178415</td>\n",
              "      <td>-0.295933</td>\n",
              "      <td>0.032824</td>\n",
              "      <td>-0.030982</td>\n",
              "      <td>0.010413</td>\n",
              "      <td>0.114003</td>\n",
              "      <td>-0.020532</td>\n",
              "      <td>-0.110383</td>\n",
              "      <td>0.112986</td>\n",
              "      <td>-0.010865</td>\n",
              "      <td>0.099733</td>\n",
              "      <td>-0.064228</td>\n",
              "    </tr>\n",
              "    <tr>\n",
              "      <th>job_pink-collar</th>\n",
              "      <td>-0.027942</td>\n",
              "      <td>-0.041063</td>\n",
              "      <td>0.005345</td>\n",
              "      <td>0.011958</td>\n",
              "      <td>-0.028623</td>\n",
              "      <td>-0.007173</td>\n",
              "      <td>0.043884</td>\n",
              "      <td>0.014969</td>\n",
              "      <td>-0.051717</td>\n",
              "      <td>-0.001183</td>\n",
              "      <td>-0.159162</td>\n",
              "      <td>-0.060305</td>\n",
              "      <td>-0.139958</td>\n",
              "      <td>1.000000</td>\n",
              "      <td>-0.067250</td>\n",
              "      <td>-0.153127</td>\n",
              "      <td>-0.253988</td>\n",
              "      <td>0.025640</td>\n",
              "      <td>0.007558</td>\n",
              "      <td>-0.025718</td>\n",
              "      <td>0.056150</td>\n",
              "      <td>0.137129</td>\n",
              "      <td>-0.184418</td>\n",
              "      <td>-0.004629</td>\n",
              "      <td>-0.010816</td>\n",
              "      <td>-0.030331</td>\n",
              "      <td>0.030459</td>\n",
              "    </tr>\n",
              "    <tr>\n",
              "      <th>job_self-employed</th>\n",
              "      <td>-0.023163</td>\n",
              "      <td>0.020264</td>\n",
              "      <td>0.013506</td>\n",
              "      <td>0.001776</td>\n",
              "      <td>-0.002338</td>\n",
              "      <td>0.007493</td>\n",
              "      <td>-0.016903</td>\n",
              "      <td>0.004299</td>\n",
              "      <td>-0.004707</td>\n",
              "      <td>-0.008226</td>\n",
              "      <td>-0.089107</td>\n",
              "      <td>-0.033762</td>\n",
              "      <td>-0.078356</td>\n",
              "      <td>-0.067250</td>\n",
              "      <td>1.000000</td>\n",
              "      <td>-0.085728</td>\n",
              "      <td>-0.142196</td>\n",
              "      <td>-0.011849</td>\n",
              "      <td>-0.008164</td>\n",
              "      <td>0.016864</td>\n",
              "      <td>-0.037121</td>\n",
              "      <td>-0.060080</td>\n",
              "      <td>0.097929</td>\n",
              "      <td>-0.016336</td>\n",
              "      <td>-0.010039</td>\n",
              "      <td>-0.001399</td>\n",
              "      <td>0.008786</td>\n",
              "    </tr>\n",
              "    <tr>\n",
              "      <th>job_technician</th>\n",
              "      <td>-0.082716</td>\n",
              "      <td>0.003802</td>\n",
              "      <td>-0.010440</td>\n",
              "      <td>0.021738</td>\n",
              "      <td>0.002035</td>\n",
              "      <td>0.003109</td>\n",
              "      <td>0.006551</td>\n",
              "      <td>0.006864</td>\n",
              "      <td>-0.011557</td>\n",
              "      <td>-0.007412</td>\n",
              "      <td>-0.202896</td>\n",
              "      <td>-0.076875</td>\n",
              "      <td>-0.178415</td>\n",
              "      <td>-0.153127</td>\n",
              "      <td>-0.085728</td>\n",
              "      <td>1.000000</td>\n",
              "      <td>-0.323778</td>\n",
              "      <td>-0.005434</td>\n",
              "      <td>-0.052492</td>\n",
              "      <td>0.059696</td>\n",
              "      <td>-0.144948</td>\n",
              "      <td>0.152542</td>\n",
              "      <td>-0.041988</td>\n",
              "      <td>-0.034276</td>\n",
              "      <td>0.005763</td>\n",
              "      <td>-0.014744</td>\n",
              "      <td>0.006279</td>\n",
              "    </tr>\n",
              "    <tr>\n",
              "      <th>job_white-collar</th>\n",
              "      <td>-0.080122</td>\n",
              "      <td>0.013780</td>\n",
              "      <td>-0.031980</td>\n",
              "      <td>0.001944</td>\n",
              "      <td>0.034929</td>\n",
              "      <td>-0.013425</td>\n",
              "      <td>-0.012111</td>\n",
              "      <td>-0.007871</td>\n",
              "      <td>0.031621</td>\n",
              "      <td>0.004516</td>\n",
              "      <td>-0.336538</td>\n",
              "      <td>-0.127511</td>\n",
              "      <td>-0.295933</td>\n",
              "      <td>-0.253988</td>\n",
              "      <td>-0.142196</td>\n",
              "      <td>-0.323778</td>\n",
              "      <td>1.000000</td>\n",
              "      <td>0.010701</td>\n",
              "      <td>-0.043270</td>\n",
              "      <td>0.038752</td>\n",
              "      <td>-0.229245</td>\n",
              "      <td>-0.222261</td>\n",
              "      <td>0.422261</td>\n",
              "      <td>-0.045233</td>\n",
              "      <td>0.029387</td>\n",
              "      <td>0.033044</td>\n",
              "      <td>-0.046804</td>\n",
              "    </tr>\n",
              "    <tr>\n",
              "      <th>marital_divorced</th>\n",
              "      <td>0.186349</td>\n",
              "      <td>-0.017586</td>\n",
              "      <td>0.021364</td>\n",
              "      <td>-0.006828</td>\n",
              "      <td>-0.026566</td>\n",
              "      <td>0.019633</td>\n",
              "      <td>0.007430</td>\n",
              "      <td>0.026463</td>\n",
              "      <td>0.005228</td>\n",
              "      <td>-0.020253</td>\n",
              "      <td>-0.056240</td>\n",
              "      <td>0.006638</td>\n",
              "      <td>0.032824</td>\n",
              "      <td>0.025640</td>\n",
              "      <td>-0.011849</td>\n",
              "      <td>-0.005434</td>\n",
              "      <td>0.010701</td>\n",
              "      <td>1.000000</td>\n",
              "      <td>-0.415878</td>\n",
              "      <td>-0.245556</td>\n",
              "      <td>0.024821</td>\n",
              "      <td>0.009891</td>\n",
              "      <td>-0.024597</td>\n",
              "      <td>-0.008920</td>\n",
              "      <td>-0.026169</td>\n",
              "      <td>-0.018120</td>\n",
              "      <td>0.033445</td>\n",
              "    </tr>\n",
              "    <tr>\n",
              "      <th>marital_married</th>\n",
              "      <td>0.318436</td>\n",
              "      <td>0.025431</td>\n",
              "      <td>-0.036179</td>\n",
              "      <td>0.047722</td>\n",
              "      <td>-0.005176</td>\n",
              "      <td>-0.006819</td>\n",
              "      <td>0.036305</td>\n",
              "      <td>0.044148</td>\n",
              "      <td>-0.092157</td>\n",
              "      <td>0.009583</td>\n",
              "      <td>0.109188</td>\n",
              "      <td>0.050746</td>\n",
              "      <td>-0.030982</td>\n",
              "      <td>0.007558</td>\n",
              "      <td>-0.008164</td>\n",
              "      <td>-0.052492</td>\n",
              "      <td>-0.043270</td>\n",
              "      <td>-0.415878</td>\n",
              "      <td>1.000000</td>\n",
              "      <td>-0.779455</td>\n",
              "      <td>0.130232</td>\n",
              "      <td>0.001536</td>\n",
              "      <td>-0.098449</td>\n",
              "      <td>0.005451</td>\n",
              "      <td>0.007682</td>\n",
              "      <td>-0.010063</td>\n",
              "      <td>0.001384</td>\n",
              "    </tr>\n",
              "    <tr>\n",
              "      <th>marital_single</th>\n",
              "      <td>-0.467799</td>\n",
              "      <td>-0.014994</td>\n",
              "      <td>0.023847</td>\n",
              "      <td>-0.046165</td>\n",
              "      <td>0.023817</td>\n",
              "      <td>-0.006255</td>\n",
              "      <td>-0.043817</td>\n",
              "      <td>-0.065288</td>\n",
              "      <td>0.094632</td>\n",
              "      <td>0.003736</td>\n",
              "      <td>-0.077645</td>\n",
              "      <td>-0.058665</td>\n",
              "      <td>0.010413</td>\n",
              "      <td>-0.025718</td>\n",
              "      <td>0.016864</td>\n",
              "      <td>0.059696</td>\n",
              "      <td>0.038752</td>\n",
              "      <td>-0.245556</td>\n",
              "      <td>-0.779455</td>\n",
              "      <td>1.000000</td>\n",
              "      <td>-0.155917</td>\n",
              "      <td>-0.008450</td>\n",
              "      <td>0.121884</td>\n",
              "      <td>0.000334</td>\n",
              "      <td>0.009838</td>\n",
              "      <td>0.023208</td>\n",
              "      <td>-0.024514</td>\n",
              "    </tr>\n",
              "    <tr>\n",
              "      <th>education_primary</th>\n",
              "      <td>0.231150</td>\n",
              "      <td>-0.000673</td>\n",
              "      <td>0.013405</td>\n",
              "      <td>0.019915</td>\n",
              "      <td>-0.024852</td>\n",
              "      <td>0.013858</td>\n",
              "      <td>0.017002</td>\n",
              "      <td>0.006854</td>\n",
              "      <td>-0.063002</td>\n",
              "      <td>-0.007034</td>\n",
              "      <td>0.299737</td>\n",
              "      <td>-0.004788</td>\n",
              "      <td>0.114003</td>\n",
              "      <td>0.056150</td>\n",
              "      <td>-0.037121</td>\n",
              "      <td>-0.144948</td>\n",
              "      <td>-0.229245</td>\n",
              "      <td>0.024821</td>\n",
              "      <td>0.130232</td>\n",
              "      <td>-0.155917</td>\n",
              "      <td>1.000000</td>\n",
              "      <td>-0.386670</td>\n",
              "      <td>-0.276834</td>\n",
              "      <td>-0.085057</td>\n",
              "      <td>-0.026044</td>\n",
              "      <td>-0.049879</td>\n",
              "      <td>0.056477</td>\n",
              "    </tr>\n",
              "    <tr>\n",
              "      <th>education_secondary</th>\n",
              "      <td>-0.094400</td>\n",
              "      <td>-0.070609</td>\n",
              "      <td>0.003820</td>\n",
              "      <td>-0.013834</td>\n",
              "      <td>-0.004620</td>\n",
              "      <td>-0.000618</td>\n",
              "      <td>0.118514</td>\n",
              "      <td>0.079583</td>\n",
              "      <td>-0.051952</td>\n",
              "      <td>-0.017129</td>\n",
              "      <td>0.076687</td>\n",
              "      <td>-0.021132</td>\n",
              "      <td>-0.020532</td>\n",
              "      <td>0.137129</td>\n",
              "      <td>-0.060080</td>\n",
              "      <td>0.152542</td>\n",
              "      <td>-0.222261</td>\n",
              "      <td>0.009891</td>\n",
              "      <td>0.001536</td>\n",
              "      <td>-0.008450</td>\n",
              "      <td>-0.386670</td>\n",
              "      <td>1.000000</td>\n",
              "      <td>-0.689501</td>\n",
              "      <td>-0.211849</td>\n",
              "      <td>0.010625</td>\n",
              "      <td>-0.029466</td>\n",
              "      <td>0.013238</td>\n",
              "    </tr>\n",
              "    <tr>\n",
              "      <th>education_tertiary</th>\n",
              "      <td>-0.101372</td>\n",
              "      <td>0.069128</td>\n",
              "      <td>-0.006813</td>\n",
              "      <td>-0.005427</td>\n",
              "      <td>0.028146</td>\n",
              "      <td>-0.011768</td>\n",
              "      <td>-0.114955</td>\n",
              "      <td>-0.067513</td>\n",
              "      <td>0.094598</td>\n",
              "      <td>0.017346</td>\n",
              "      <td>-0.298548</td>\n",
              "      <td>0.026612</td>\n",
              "      <td>-0.110383</td>\n",
              "      <td>-0.184418</td>\n",
              "      <td>0.097929</td>\n",
              "      <td>-0.041988</td>\n",
              "      <td>0.422261</td>\n",
              "      <td>-0.024597</td>\n",
              "      <td>-0.098449</td>\n",
              "      <td>0.121884</td>\n",
              "      <td>-0.276834</td>\n",
              "      <td>-0.689501</td>\n",
              "      <td>1.000000</td>\n",
              "      <td>-0.151672</td>\n",
              "      <td>0.012265</td>\n",
              "      <td>0.059518</td>\n",
              "      <td>-0.052836</td>\n",
              "    </tr>\n",
              "    <tr>\n",
              "      <th>education_unknown</th>\n",
              "      <td>0.077761</td>\n",
              "      <td>0.014596</td>\n",
              "      <td>-0.015887</td>\n",
              "      <td>0.012976</td>\n",
              "      <td>-0.011898</td>\n",
              "      <td>0.005421</td>\n",
              "      <td>-0.053191</td>\n",
              "      <td>-0.050249</td>\n",
              "      <td>0.014355</td>\n",
              "      <td>0.013590</td>\n",
              "      <td>-0.000640</td>\n",
              "      <td>-0.001555</td>\n",
              "      <td>0.112986</td>\n",
              "      <td>-0.004629</td>\n",
              "      <td>-0.016336</td>\n",
              "      <td>-0.034276</td>\n",
              "      <td>-0.045233</td>\n",
              "      <td>-0.008920</td>\n",
              "      <td>0.005451</td>\n",
              "      <td>0.000334</td>\n",
              "      <td>-0.085057</td>\n",
              "      <td>-0.211849</td>\n",
              "      <td>-0.151672</td>\n",
              "      <td>1.000000</td>\n",
              "      <td>-0.010658</td>\n",
              "      <td>0.018158</td>\n",
              "      <td>-0.004978</td>\n",
              "    </tr>\n",
              "    <tr>\n",
              "      <th>poutcome_failure</th>\n",
              "      <td>-0.008071</td>\n",
              "      <td>0.001695</td>\n",
              "      <td>-0.033966</td>\n",
              "      <td>-0.080188</td>\n",
              "      <td>0.335870</td>\n",
              "      <td>-0.024650</td>\n",
              "      <td>0.087741</td>\n",
              "      <td>0.006264</td>\n",
              "      <td>0.020714</td>\n",
              "      <td>0.051422</td>\n",
              "      <td>-0.018022</td>\n",
              "      <td>-0.001840</td>\n",
              "      <td>-0.010865</td>\n",
              "      <td>-0.010816</td>\n",
              "      <td>-0.010039</td>\n",
              "      <td>0.005763</td>\n",
              "      <td>0.029387</td>\n",
              "      <td>-0.026169</td>\n",
              "      <td>0.007682</td>\n",
              "      <td>0.009838</td>\n",
              "      <td>-0.026044</td>\n",
              "      <td>0.010625</td>\n",
              "      <td>0.012265</td>\n",
              "      <td>-0.010658</td>\n",
              "      <td>1.000000</td>\n",
              "      <td>-0.114542</td>\n",
              "      <td>-0.690332</td>\n",
              "    </tr>\n",
              "    <tr>\n",
              "      <th>poutcome_success</th>\n",
              "      <td>0.062114</td>\n",
              "      <td>0.045603</td>\n",
              "      <td>-0.022578</td>\n",
              "      <td>-0.091807</td>\n",
              "      <td>0.325477</td>\n",
              "      <td>-0.040272</td>\n",
              "      <td>-0.136299</td>\n",
              "      <td>-0.080370</td>\n",
              "      <td>0.286642</td>\n",
              "      <td>0.119598</td>\n",
              "      <td>-0.077422</td>\n",
              "      <td>-0.035072</td>\n",
              "      <td>0.099733</td>\n",
              "      <td>-0.030331</td>\n",
              "      <td>-0.001399</td>\n",
              "      <td>-0.014744</td>\n",
              "      <td>0.033044</td>\n",
              "      <td>-0.018120</td>\n",
              "      <td>-0.010063</td>\n",
              "      <td>0.023208</td>\n",
              "      <td>-0.049879</td>\n",
              "      <td>-0.029466</td>\n",
              "      <td>0.059518</td>\n",
              "      <td>0.018158</td>\n",
              "      <td>-0.114542</td>\n",
              "      <td>1.000000</td>\n",
              "      <td>-0.639659</td>\n",
              "    </tr>\n",
              "    <tr>\n",
              "      <th>poutcome_unknown</th>\n",
              "      <td>-0.038992</td>\n",
              "      <td>-0.034524</td>\n",
              "      <td>0.042725</td>\n",
              "      <td>0.128907</td>\n",
              "      <td>-0.496921</td>\n",
              "      <td>0.048403</td>\n",
              "      <td>0.031375</td>\n",
              "      <td>0.053686</td>\n",
              "      <td>-0.224785</td>\n",
              "      <td>-0.126890</td>\n",
              "      <td>0.070330</td>\n",
              "      <td>0.026966</td>\n",
              "      <td>-0.064228</td>\n",
              "      <td>0.030459</td>\n",
              "      <td>0.008786</td>\n",
              "      <td>0.006279</td>\n",
              "      <td>-0.046804</td>\n",
              "      <td>0.033445</td>\n",
              "      <td>0.001384</td>\n",
              "      <td>-0.024514</td>\n",
              "      <td>0.056477</td>\n",
              "      <td>0.013238</td>\n",
              "      <td>-0.052836</td>\n",
              "      <td>-0.004978</td>\n",
              "      <td>-0.690332</td>\n",
              "      <td>-0.639659</td>\n",
              "      <td>1.000000</td>\n",
              "    </tr>\n",
              "  </tbody>\n",
              "</table>\n",
              "</div>"
            ],
            "text/plain": [
              "                          age   balance  ...  poutcome_success  poutcome_unknown\n",
              "age                  1.000000  0.112300  ...          0.062114         -0.038992\n",
              "balance              0.112300  1.000000  ...          0.045603         -0.034524\n",
              "duration             0.000189  0.022436  ...         -0.022578          0.042725\n",
              "campaign            -0.005278 -0.013894  ...         -0.091807          0.128907\n",
              "previous             0.020169  0.030805  ...          0.325477         -0.496921\n",
              "default_cat         -0.011425 -0.060954  ...         -0.040272          0.048403\n",
              "housing_cat         -0.168700 -0.077092  ...         -0.136299          0.031375\n",
              "loan_cat            -0.031418 -0.084589  ...         -0.080370          0.053686\n",
              "deposit_cat          0.034901  0.081129  ...          0.286642         -0.224785\n",
              "recent_pdays         0.019102 -0.004379  ...          0.119598         -0.126890\n",
              "job_blue-collar     -0.066567 -0.046220  ...         -0.077422          0.070330\n",
              "job_entrepreneur     0.024176  0.005039  ...         -0.035072          0.026966\n",
              "job_other            0.296418  0.050744  ...          0.099733         -0.064228\n",
              "job_pink-collar     -0.027942 -0.041063  ...         -0.030331          0.030459\n",
              "job_self-employed   -0.023163  0.020264  ...         -0.001399          0.008786\n",
              "job_technician      -0.082716  0.003802  ...         -0.014744          0.006279\n",
              "job_white-collar    -0.080122  0.013780  ...          0.033044         -0.046804\n",
              "marital_divorced     0.186349 -0.017586  ...         -0.018120          0.033445\n",
              "marital_married      0.318436  0.025431  ...         -0.010063          0.001384\n",
              "marital_single      -0.467799 -0.014994  ...          0.023208         -0.024514\n",
              "education_primary    0.231150 -0.000673  ...         -0.049879          0.056477\n",
              "education_secondary -0.094400 -0.070609  ...         -0.029466          0.013238\n",
              "education_tertiary  -0.101372  0.069128  ...          0.059518         -0.052836\n",
              "education_unknown    0.077761  0.014596  ...          0.018158         -0.004978\n",
              "poutcome_failure    -0.008071  0.001695  ...         -0.114542         -0.690332\n",
              "poutcome_success     0.062114  0.045603  ...          1.000000         -0.639659\n",
              "poutcome_unknown    -0.038992 -0.034524  ...         -0.639659          1.000000\n",
              "\n",
              "[27 rows x 27 columns]"
            ]
          },
          "metadata": {
            "tags": []
          },
          "execution_count": 50
        }
      ]
    },
    {
      "cell_type": "code",
      "metadata": {
        "id": "l2GtxW8ZVB0Q",
        "colab_type": "code",
        "outputId": "b8cca684-b23b-4a71-b6bc-2d5d3a0981c6",
        "colab": {
          "base_uri": "https://localhost:8080/",
          "height": 624
        }
      },
      "source": [
        "#This is Heatmap fucntion use to visualize the data pattern\n",
        "# Heatmap\n",
        "plt.figure(figsize = (10,10))\n",
        "cmap = sns.diverging_palette(220, 10, as_cmap=True)\n",
        "sns.heatmap(corr, xticklabels=corr.columns.values, yticklabels=corr.columns.values, cmap=cmap, vmax=.3, center=0, square=True, linewidths=.5, cbar_kws={\"shrink\": .82})\n",
        "plt.title('Heatmap of Correlation Matrix')"
      ],
      "execution_count": 52,
      "outputs": [
        {
          "output_type": "execute_result",
          "data": {
            "text/plain": [
              "Text(0.5, 1.0, 'Heatmap of Correlation Matrix')"
            ]
          },
          "metadata": {
            "tags": []
          },
          "execution_count": 52
        },
        {
          "output_type": "display_data",
          "data": {
            "image/png": "[encoded data removed]",
            "text/plain": [
              "<Figure size 720x720 with 2 Axes>"
            ]
          },
          "metadata": {
            "tags": []
          }
        }
      ]
    },
    {
      "cell_type": "code",
      "metadata": {
        "id": "nk6amudmVNgo",
        "colab_type": "code",
        "outputId": "6bba4b30-f8fc-4d94-ec1b-edf062637f42",
        "colab": {
          "base_uri": "https://localhost:8080/",
          "height": 817
        }
      },
      "source": [
        "# Extract the deposte_cat column (the dependent variable)\n",
        "corr_deposite = pd.DataFrame(corr['deposit_cat'].drop('deposit_cat'))\n",
        "corr_deposite.sort_values(by = 'deposit_cat', ascending = False)"
      ],
      "execution_count": 53,
      "outputs": [
        {
          "output_type": "execute_result",
          "data": {
            "text/html": [
              "<div>\n",
              "<style scoped>\n",
              "    .dataframe tbody tr th:only-of-type {\n",
              "        vertical-align: middle;\n",
              "    }\n",
              "\n",
              "    .dataframe tbody tr th {\n",
              "        vertical-align: top;\n",
              "    }\n",
              "\n",
              "    .dataframe thead th {\n",
              "        text-align: right;\n",
              "    }\n",
              "</style>\n",
              "<table border=\"1\" class=\"dataframe\">\n",
              "  <thead>\n",
              "    <tr style=\"text-align: right;\">\n",
              "      <th></th>\n",
              "      <th>deposit_cat</th>\n",
              "    </tr>\n",
              "  </thead>\n",
              "  <tbody>\n",
              "    <tr>\n",
              "      <th>duration</th>\n",
              "      <td>0.451919</td>\n",
              "    </tr>\n",
              "    <tr>\n",
              "      <th>poutcome_success</th>\n",
              "      <td>0.286642</td>\n",
              "    </tr>\n",
              "    <tr>\n",
              "      <th>job_other</th>\n",
              "      <td>0.144408</td>\n",
              "    </tr>\n",
              "    <tr>\n",
              "      <th>previous</th>\n",
              "      <td>0.139867</td>\n",
              "    </tr>\n",
              "    <tr>\n",
              "      <th>marital_single</th>\n",
              "      <td>0.094632</td>\n",
              "    </tr>\n",
              "    <tr>\n",
              "      <th>education_tertiary</th>\n",
              "      <td>0.094598</td>\n",
              "    </tr>\n",
              "    <tr>\n",
              "      <th>balance</th>\n",
              "      <td>0.081129</td>\n",
              "    </tr>\n",
              "    <tr>\n",
              "      <th>age</th>\n",
              "      <td>0.034901</td>\n",
              "    </tr>\n",
              "    <tr>\n",
              "      <th>recent_pdays</th>\n",
              "      <td>0.034457</td>\n",
              "    </tr>\n",
              "    <tr>\n",
              "      <th>job_white-collar</th>\n",
              "      <td>0.031621</td>\n",
              "    </tr>\n",
              "    <tr>\n",
              "      <th>poutcome_failure</th>\n",
              "      <td>0.020714</td>\n",
              "    </tr>\n",
              "    <tr>\n",
              "      <th>education_unknown</th>\n",
              "      <td>0.014355</td>\n",
              "    </tr>\n",
              "    <tr>\n",
              "      <th>marital_divorced</th>\n",
              "      <td>0.005228</td>\n",
              "    </tr>\n",
              "    <tr>\n",
              "      <th>job_self-employed</th>\n",
              "      <td>-0.004707</td>\n",
              "    </tr>\n",
              "    <tr>\n",
              "      <th>job_technician</th>\n",
              "      <td>-0.011557</td>\n",
              "    </tr>\n",
              "    <tr>\n",
              "      <th>job_entrepreneur</th>\n",
              "      <td>-0.034443</td>\n",
              "    </tr>\n",
              "    <tr>\n",
              "      <th>default_cat</th>\n",
              "      <td>-0.040680</td>\n",
              "    </tr>\n",
              "    <tr>\n",
              "      <th>job_pink-collar</th>\n",
              "      <td>-0.051717</td>\n",
              "    </tr>\n",
              "    <tr>\n",
              "      <th>education_secondary</th>\n",
              "      <td>-0.051952</td>\n",
              "    </tr>\n",
              "    <tr>\n",
              "      <th>education_primary</th>\n",
              "      <td>-0.063002</td>\n",
              "    </tr>\n",
              "    <tr>\n",
              "      <th>marital_married</th>\n",
              "      <td>-0.092157</td>\n",
              "    </tr>\n",
              "    <tr>\n",
              "      <th>job_blue-collar</th>\n",
              "      <td>-0.100840</td>\n",
              "    </tr>\n",
              "    <tr>\n",
              "      <th>loan_cat</th>\n",
              "      <td>-0.110580</td>\n",
              "    </tr>\n",
              "    <tr>\n",
              "      <th>campaign</th>\n",
              "      <td>-0.128081</td>\n",
              "    </tr>\n",
              "    <tr>\n",
              "      <th>housing_cat</th>\n",
              "      <td>-0.203888</td>\n",
              "    </tr>\n",
              "    <tr>\n",
              "      <th>poutcome_unknown</th>\n",
              "      <td>-0.224785</td>\n",
              "    </tr>\n",
              "  </tbody>\n",
              "</table>\n",
              "</div>"
            ],
            "text/plain": [
              "                     deposit_cat\n",
              "duration                0.451919\n",
              "poutcome_success        0.286642\n",
              "job_other               0.144408\n",
              "previous                0.139867\n",
              "marital_single          0.094632\n",
              "education_tertiary      0.094598\n",
              "balance                 0.081129\n",
              "age                     0.034901\n",
              "recent_pdays            0.034457\n",
              "job_white-collar        0.031621\n",
              "poutcome_failure        0.020714\n",
              "education_unknown       0.014355\n",
              "marital_divorced        0.005228\n",
              "job_self-employed      -0.004707\n",
              "job_technician         -0.011557\n",
              "job_entrepreneur       -0.034443\n",
              "default_cat            -0.040680\n",
              "job_pink-collar        -0.051717\n",
              "education_secondary    -0.051952\n",
              "education_primary      -0.063002\n",
              "marital_married        -0.092157\n",
              "job_blue-collar        -0.100840\n",
              "loan_cat               -0.110580\n",
              "campaign               -0.128081\n",
              "housing_cat            -0.203888\n",
              "poutcome_unknown       -0.224785"
            ]
          },
          "metadata": {
            "tags": []
          },
          "execution_count": 53
        }
      ]
    },
    {
      "cell_type": "markdown",
      "metadata": {
        "id": "jqqxkPRhVQll",
        "colab_type": "text"
      },
      "source": [
        "**Build the Data Model**"
      ]
    },
    {
      "cell_type": "code",
      "metadata": {
        "id": "D-Bia_1dVR8p",
        "colab_type": "code",
        "colab": {}
      },
      "source": [
        "# Train-Test split: 20% test data\n",
        "data_drop_deposite = bankcl.drop('deposit_cat', 1)\n",
        "label = bankcl.deposit_cat\n",
        "data_train, data_test, label_train, label_test = train_test_split(data_drop_deposite, label, test_size = 0.2, random_state = 50)"
      ],
      "execution_count": 0,
      "outputs": []
    },
    {
      "cell_type": "code",
      "metadata": {
        "id": "srKr9dEUVX9Q",
        "colab_type": "code",
        "colab": {
          "base_uri": "https://localhost:8080/",
          "height": 50
        },
        "outputId": "b025f7d3-cefd-48ec-b10a-59454b1a75e9"
      },
      "source": [
        " #Decision tree with depth = 2\n",
        "dt2 = tree.DecisionTreeClassifier(random_state=1, max_depth=2)\n",
        "dt2.fit(data_train, label_train)\n",
        "dt2_score_train = dt2.score(data_train, label_train)\n",
        "print(\"Training score: \",dt2_score_train)\n",
        "dt2_score_test = dt2.score(data_test, label_test)\n",
        "print(\"Testing score: \",dt2_score_test)"
      ],
      "execution_count": 60,
      "outputs": [
        {
          "output_type": "stream",
          "text": [
            "Training score:  0.7285250307985217\n",
            "Testing score:  0.7268248992386923\n"
          ],
          "name": "stdout"
        }
      ]
    },
    {
      "cell_type": "code",
      "metadata": {
        "id": "pvcMXf01VZSw",
        "colab_type": "code",
        "outputId": "ff9bf2e6-4005-4c04-8cc4-402a22d1ddb6",
        "colab": {
          "base_uri": "https://localhost:8080/",
          "height": 50
        }
      },
      "source": [
        "# Decision tree with depth = 3\n",
        "dt3 = tree.DecisionTreeClassifier(random_state=1, max_depth=3)\n",
        "dt3.fit(data_train, label_train)\n",
        "dt3_score_train = dt3.score(data_train, label_train)\n",
        "print(\"Training score: \",dt3_score_train)\n",
        "dt3_score_test = dt3.score(data_test, label_test)\n",
        "print(\"Testing score: \",dt3_score_test)"
      ],
      "execution_count": 55,
      "outputs": [
        {
          "output_type": "stream",
          "text": [
            "Training score:  0.770411020271027\n",
            "Testing score:  0.7572772055530677\n"
          ],
          "name": "stdout"
        }
      ]
    },
    {
      "cell_type": "code",
      "metadata": {
        "id": "3m44EZTPX0pT",
        "colab_type": "code",
        "outputId": "b3dda3a2-83fe-4363-c97e-a75799326a14",
        "colab": {
          "base_uri": "https://localhost:8080/",
          "height": 50
        }
      },
      "source": [
        "# Decision tree with depth = 4\n",
        "dt4 = tree.DecisionTreeClassifier(random_state=1, max_depth=4)\n",
        "dt4.fit(data_train, label_train)\n",
        "dt4_score_train = dt4.score(data_train, label_train)\n",
        "print(\"Training score: \",dt4_score_train)\n",
        "dt4_score_test = dt4.score(data_test, label_test)\n",
        "print(\"Testing score: \",dt4_score_test)"
      ],
      "execution_count": 61,
      "outputs": [
        {
          "output_type": "stream",
          "text": [
            "Training score:  0.7885541494008288\n",
            "Testing score:  0.774294670846395\n"
          ],
          "name": "stdout"
        }
      ]
    },
    {
      "cell_type": "code",
      "metadata": {
        "id": "pStWM66vX5rx",
        "colab_type": "code",
        "outputId": "425e9a21-b419-4948-9c5f-9f83d779bb54",
        "colab": {
          "base_uri": "https://localhost:8080/",
          "height": 50
        }
      },
      "source": [
        "# Decision tree with depth = 6\n",
        "dt6 = tree.DecisionTreeClassifier(random_state=1, max_depth=6)\n",
        "dt6.fit(data_train, label_train)\n",
        "dt6_score_train = dt6.score(data_train, label_train)\n",
        "print(\"Training score: \",dt6_score_train)\n",
        "dt6_score_test = dt6.score(data_test, label_test)\n",
        "print(\"Testing score: \",dt6_score_test)"
      ],
      "execution_count": 62,
      "outputs": [
        {
          "output_type": "stream",
          "text": [
            "Training score:  0.8080412140217269\n",
            "Testing score:  0.7796686072548141\n"
          ],
          "name": "stdout"
        }
      ]
    },
    {
      "cell_type": "code",
      "metadata": {
        "id": "SWG3j1eaX4Sa",
        "colab_type": "code",
        "colab": {
          "base_uri": "https://localhost:8080/",
          "height": 50
        },
        "outputId": "c9d89a74-5f7c-41d3-888d-f7019eb2873a"
      },
      "source": [
        "# Decision tree: To the full depth\n",
        "dt1 = tree.DecisionTreeClassifier()\n",
        "dt1.fit(data_train, label_train)\n",
        "dt1_score_train = dt1.score(data_train, label_train)\n",
        "print(\"Training score: \", dt1_score_train)\n",
        "dt1_score_test = dt1.score(data_test, label_test)\n",
        "print(\"Testing score: \", dt1_score_test)"
      ],
      "execution_count": 64,
      "outputs": [
        {
          "output_type": "stream",
          "text": [
            "Training score:  1.0\n",
            "Testing score:  0.7371249440214958\n"
          ],
          "name": "stdout"
        }
      ]
    },
    {
      "cell_type": "markdown",
      "metadata": {
        "id": "qcaIdSkVX-o5",
        "colab_type": "text"
      },
      "source": [
        "Compare Training and Testing scores for various tree depths used"
      ]
    },
    {
      "cell_type": "code",
      "metadata": {
        "id": "gydx8ynWYAEi",
        "colab_type": "code",
        "outputId": "38253d99-e202-4722-ecc7-16383a8055fa",
        "colab": {
          "base_uri": "https://localhost:8080/",
          "height": 134
        }
      },
      "source": [
        "print('{:10} {:20} {:20}'.format('depth', 'Training score','Testing score'))\n",
        "print('{:10} {:20} {:20}'.format('-----', '--------------','-------------'))\n",
        "print('{:1} {:>25} {:>20}'.format(2, dt2_score_train, dt2_score_test))\n",
        "print('{:1} {:>25} {:>20}'.format(3, dt3_score_train, dt3_score_test))\n",
        "print('{:1} {:>25} {:>20}'.format(4, dt4_score_train, dt4_score_test))\n",
        "print('{:1} {:>25} {:>20}'.format(6, dt6_score_train, dt6_score_test))\n",
        "print('{:1} {:>23} {:>20}'.format(\"max\", dt1_score_train, dt1_score_test))"
      ],
      "execution_count": 65,
      "outputs": [
        {
          "output_type": "stream",
          "text": [
            "depth      Training score       Testing score       \n",
            "-----      --------------       -------------       \n",
            "2        0.7285250307985217   0.7268248992386923\n",
            "3         0.770411020271027   0.7572772055530677\n",
            "4        0.7885541494008288    0.774294670846395\n",
            "6        0.8080412140217269   0.7796686072548141\n",
            "max                     1.0   0.7371249440214958\n"
          ],
          "name": "stdout"
        }
      ]
    },
    {
      "cell_type": "markdown",
      "metadata": {
        "id": "rFlSSohKYGpU",
        "colab_type": "text"
      },
      "source": [
        "It could be seen that, higher the depth, training score increases and matches perfects with the training data set. However higher the depth the tree goes, it overfit to the training data set. So it's no use keep increasing the tree depth. According to above observations, tree with a depth of 2 seems more reasonable as both training and test scores are reasonably high."
      ]
    },
    {
      "cell_type": "code",
      "metadata": {
        "id": "ImwHCTB3R6Bs",
        "colab_type": "code",
        "colab": {}
      },
      "source": [
        "# Let's generate the decision tree for depth = 2\n",
        "# Create a feature vector\n",
        "features = bankcl.columns.tolist()"
      ],
      "execution_count": 0,
      "outputs": []
    },
    {
      "cell_type": "code",
      "metadata": {
        "id": "v1cTDhO5Tu1D",
        "colab_type": "code",
        "colab": {
          "base_uri": "https://localhost:8080/",
          "height": 34
        },
        "outputId": "c48126e8-67c2-4ea2-b55f-08e1dda7cd00"
      },
      "source": [
        "# Two classes: 0 = not signed up,  1 = signed up\n",
        "dt2.classes_"
      ],
      "execution_count": 67,
      "outputs": [
        {
          "output_type": "execute_result",
          "data": {
            "text/plain": [
              "array([0, 1])"
            ]
          },
          "metadata": {
            "tags": []
          },
          "execution_count": 67
        }
      ]
    },
    {
      "cell_type": "code",
      "metadata": {
        "id": "g5PpD8KrTzWr",
        "colab_type": "code",
        "colab": {
          "base_uri": "https://localhost:8080/",
          "height": 454
        },
        "outputId": "2a1f77b3-6db5-4eb6-c213-d91e6402dbe3"
      },
      "source": [
        "# Create a feature vector\n",
        "features = data_drop_deposite.columns.tolist()\n",
        "\n",
        "features"
      ],
      "execution_count": 68,
      "outputs": [
        {
          "output_type": "execute_result",
          "data": {
            "text/plain": [
              "['age',\n",
              " 'balance',\n",
              " 'duration',\n",
              " 'campaign',\n",
              " 'previous',\n",
              " 'default_cat',\n",
              " 'housing_cat',\n",
              " 'loan_cat',\n",
              " 'recent_pdays',\n",
              " 'job_blue-collar',\n",
              " 'job_entrepreneur',\n",
              " 'job_other',\n",
              " 'job_pink-collar',\n",
              " 'job_self-employed',\n",
              " 'job_technician',\n",
              " 'job_white-collar',\n",
              " 'marital_divorced',\n",
              " 'marital_married',\n",
              " 'marital_single',\n",
              " 'education_primary',\n",
              " 'education_secondary',\n",
              " 'education_tertiary',\n",
              " 'education_unknown',\n",
              " 'poutcome_failure',\n",
              " 'poutcome_success',\n",
              " 'poutcome_unknown']"
            ]
          },
          "metadata": {
            "tags": []
          },
          "execution_count": 68
        }
      ]
    },
    {
      "cell_type": "code",
      "metadata": {
        "id": "AlUakAtbUCbv",
        "colab_type": "code",
        "colab": {
          "base_uri": "https://localhost:8080/",
          "height": 454
        },
        "outputId": "cc35a973-e8b6-4791-b88f-242e5f8c16cb"
      },
      "source": [
        "# Investigate most important features with depth =2\n",
        "\n",
        "dt2 = tree.DecisionTreeClassifier(random_state=1, max_depth=2)\n",
        "\n",
        "# Fit the decision tree classifier\n",
        "dt2.fit(data_train, label_train)\n",
        "\n",
        "fi = dt2.feature_importances_\n",
        "\n",
        "l = len(features)\n",
        "for i in range(0,len(features)):\n",
        "    print('{:.<20} {:3}'.format(features[i],fi[i]))"
      ],
      "execution_count": 69,
      "outputs": [
        {
          "output_type": "stream",
          "text": [
            "age................. 0.0\n",
            "balance............. 0.0\n",
            "duration............ 0.849306123902405\n",
            "campaign............ 0.0\n",
            "previous............ 0.0\n",
            "default_cat......... 0.0\n",
            "housing_cat......... 0.0\n",
            "loan_cat............ 0.0\n",
            "recent_pdays........ 0.0\n",
            "job_blue-collar..... 0.0\n",
            "job_entrepreneur.... 0.0\n",
            "job_other........... 0.0\n",
            "job_pink-collar..... 0.0\n",
            "job_self-employed... 0.0\n",
            "job_technician...... 0.0\n",
            "job_white-collar.... 0.0\n",
            "marital_divorced.... 0.0\n",
            "marital_married..... 0.0\n",
            "marital_single...... 0.0\n",
            "education_primary... 0.0\n",
            "education_secondary. 0.0\n",
            "education_tertiary.. 0.0\n",
            "education_unknown... 0.0\n",
            "poutcome_failure.... 0.0\n",
            "poutcome_success.... 0.15069387609759496\n",
            "poutcome_unknown.... 0.0\n"
          ],
          "name": "stdout"
        }
      ]
    },
    {
      "cell_type": "code",
      "metadata": {
        "id": "zQqOYuquUFl7",
        "colab_type": "code",
        "colab": {
          "base_uri": "https://localhost:8080/",
          "height": 67
        },
        "outputId": "770ef99c-ffa8-4a7b-c4f0-c07ec81dd265"
      },
      "source": [
        "# According to feature importance results, most importtant feature is the \"Duration\"\n",
        "# Let's calculte statistics on Duration\n",
        "print(\"Mean duration   : \", data_drop_deposite.duration.mean())\n",
        "print(\"Maximun duration: \", data_drop_deposite.duration.max())\n",
        "print(\"Minimum duration: \", data_drop_deposite.duration.min())"
      ],
      "execution_count": 70,
      "outputs": [
        {
          "output_type": "stream",
          "text": [
            "Mean duration   :  371.99381831213043\n",
            "Maximun duration:  3881\n",
            "Minimum duration:  2\n"
          ],
          "name": "stdout"
        }
      ]
    },
    {
      "cell_type": "code",
      "metadata": {
        "id": "UJL4XMGEUIHq",
        "colab_type": "code",
        "colab": {
          "base_uri": "https://localhost:8080/",
          "height": 50
        },
        "outputId": "e6e0a576-0068-4255-8bb3-d5cc7e9a679a"
      },
      "source": [
        " #Predict: Successful deposite with a call duration = 371 sec\n",
        "\n",
        "print(dt2.predict_proba(np.array([0, 0, 371, 0, 0, 0,0,0,0,0,0,0,0,0,0,0,0,0,0,0,0,0,0,0,1,0]).reshape(1, -1)))\n",
        "print(dt2.predict(np.array([0, 0, 371, 0, 0, 0,0,0,0,0,0,0,0,0,0,0,0,0,0,0,0,0,0,0,1,0]).reshape(1, -1)))\n",
        "# column 0: probability for class 0 (not signed for term deposite) & column 1: probability for class 1\n",
        "# Probability of Successful deposite = 0.51484432"
      ],
      "execution_count": 72,
      "outputs": [
        {
          "output_type": "stream",
          "text": [
            "[[0.48515568 0.51484432]]\n",
            "[1]\n"
          ],
          "name": "stdout"
        }
      ]
    },
    {
      "cell_type": "code",
      "metadata": {
        "id": "Kq6u_Qx7UPVL",
        "colab_type": "code",
        "colab": {
          "base_uri": "https://localhost:8080/",
          "height": 50
        },
        "outputId": "187c154f-44b4-4179-99bd-b25061171818"
      },
      "source": [
        "# Predict: Successful deposite with a maximun call duration = 3881 sec\n",
        "\n",
        "print(dt2.predict_proba(np.array([0, 0, 3881, 0, 0, 0,0,0,0,0,0,0,0,0,0,0,0,0,0,0,0,0,0,0,1,0]).reshape(1, -1)))\n",
        "print(dt2.predict(np.array([0, 0, 3881, 0, 0, 0,0,0,0,0,0,0,0,0,0,0,0,0,0,0,0,0,0,0,1,0]).reshape(1, -1)))"
      ],
      "execution_count": 73,
      "outputs": [
        {
          "output_type": "stream",
          "text": [
            "[[0.19295499 0.80704501]]\n",
            "[1]\n"
          ],
          "name": "stdout"
        }
      ]
    },
    {
      "cell_type": "code",
      "metadata": {
        "id": "M4btu8emUV7O",
        "colab_type": "code",
        "colab": {
          "base_uri": "https://localhost:8080/",
          "height": 470
        },
        "outputId": "119acf1f-cd33-4856-da57-b337edbd2699"
      },
      "source": [
        "# Get a row with poutcome_success = 1\n",
        "#bank_with_dummies[(bank_with_dummies.poutcome_success == 1)]\n",
        "data_drop_deposite.iloc[985]"
      ],
      "execution_count": 74,
      "outputs": [
        {
          "output_type": "execute_result",
          "data": {
            "text/plain": [
              "age                      46.000000\n",
              "balance                3354.000000\n",
              "duration                522.000000\n",
              "campaign                  1.000000\n",
              "previous                  1.000000\n",
              "default_cat               0.000000\n",
              "housing_cat               1.000000\n",
              "loan_cat                  0.000000\n",
              "recent_pdays              0.005747\n",
              "job_blue-collar           0.000000\n",
              "job_entrepreneur          0.000000\n",
              "job_other                 1.000000\n",
              "job_pink-collar           0.000000\n",
              "job_self-employed         0.000000\n",
              "job_technician            0.000000\n",
              "job_white-collar          0.000000\n",
              "marital_divorced          1.000000\n",
              "marital_married           0.000000\n",
              "marital_single            0.000000\n",
              "education_primary         0.000000\n",
              "education_secondary       1.000000\n",
              "education_tertiary        0.000000\n",
              "education_unknown         0.000000\n",
              "poutcome_failure          0.000000\n",
              "poutcome_success          1.000000\n",
              "poutcome_unknown          0.000000\n",
              "Name: 985, dtype: float64"
            ]
          },
          "metadata": {
            "tags": []
          },
          "execution_count": 74
        }
      ]
    },
    {
      "cell_type": "code",
      "metadata": {
        "id": "JKcABbGiUZGz",
        "colab_type": "code",
        "colab": {
          "base_uri": "https://localhost:8080/",
          "height": 34
        },
        "outputId": "4ea85ccc-0180-499b-9256-8c96dfec4fdf"
      },
      "source": [
        "# Predict: Probability for above\n",
        "\n",
        "print(dt2.predict_proba(np.array([46,3354,522,1,1,0,1,0,0.005747,0,0,1,0,0,0,0,1,0,0,0,1,0,0,0,1,0]).reshape(1, -1)))\n",
        "#print(ctree.predict(np.array([46,3354,522,1,1,0,1,0,0.005747,0,0,1,0,0,0,0,1,0,0,0,1,0,0,0,1,0]).reshape(1, -1)))"
      ],
      "execution_count": 75,
      "outputs": [
        {
          "output_type": "stream",
          "text": [
            "[[0.19295499 0.80704501]]\n"
          ],
          "name": "stdout"
        }
      ]
    },
    {
      "cell_type": "code",
      "metadata": {
        "id": "9TRMyblJUcPe",
        "colab_type": "code",
        "colab": {
          "base_uri": "https://localhost:8080/",
          "height": 118
        },
        "outputId": "8f47e07e-90fb-45d9-e6e3-2add46d39d68"
      },
      "source": [
        "# Make predictions on the test set\n",
        "preds = dt2.predict(data_test)\n",
        "\n",
        "# Calculate accuracy\n",
        "print(\"\\nAccuracy score: \\n{}\".format(metrics.accuracy_score(label_test, preds)))\n",
        "\n",
        "# Make predictions on the test set using predict_proba\n",
        "probs = dt2.predict_proba(data_test)[:,1]\n",
        "\n",
        "# Calculate the AUC metric\n",
        "print(\"\\nArea Under Curve: \\n{}\".format(metrics.roc_auc_score(label_test, probs)))"
      ],
      "execution_count": 76,
      "outputs": [
        {
          "output_type": "stream",
          "text": [
            "\n",
            "Accuracy score: \n",
            "0.7268248992386923\n",
            "\n",
            "Area Under Curve: \n",
            "0.7880265888143609\n"
          ],
          "name": "stdout"
        }
      ]
    }
  ]
}